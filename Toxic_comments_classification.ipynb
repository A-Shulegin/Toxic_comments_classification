{
 "cells": [
  {
   "cell_type": "markdown",
   "metadata": {
    "toc": true
   },
   "source": [
    "<h1>Содержание<span class=\"tocSkip\"></span></h1>\n",
    "<div class=\"toc\"><ul class=\"toc-item\"><li><span><a href=\"#Подготовка\" data-toc-modified-id=\"Подготовка-1\"><span class=\"toc-item-num\">1&nbsp;&nbsp;</span>Подготовка</a></span></li><li><span><a href=\"#Обучение\" data-toc-modified-id=\"Обучение-2\"><span class=\"toc-item-num\">2&nbsp;&nbsp;</span>Обучение</a></span></li><li><span><a href=\"#Выводы\" data-toc-modified-id=\"Выводы-3\"><span class=\"toc-item-num\">3&nbsp;&nbsp;</span>Выводы</a></span></li><li><span><a href=\"#Общий-вывод\" data-toc-modified-id=\"Общий-вывод-4\"><span class=\"toc-item-num\">4&nbsp;&nbsp;</span>Общий вывод</a></span><ul class=\"toc-item\"><li><span><a href=\"#Подготовка\" data-toc-modified-id=\"Подготовка-4.1\"><span class=\"toc-item-num\">4.1&nbsp;&nbsp;</span>Подготовка</a></span></li><li><span><a href=\"#Обучение\" data-toc-modified-id=\"Обучение-4.2\"><span class=\"toc-item-num\">4.2&nbsp;&nbsp;</span>Обучение</a></span></li><li><span><a href=\"#Выводы\" data-toc-modified-id=\"Выводы-4.3\"><span class=\"toc-item-num\">4.3&nbsp;&nbsp;</span>Выводы</a></span></li></ul></li><li><span><a href=\"#Чек-лист-проверки\" data-toc-modified-id=\"Чек-лист-проверки-5\"><span class=\"toc-item-num\">5&nbsp;&nbsp;</span>Чек-лист проверки</a></span></li></ul></div>"
   ]
  },
  {
   "cell_type": "markdown",
   "metadata": {},
   "source": [
    "# Классификация токсичных комментариев"
   ]
  },
  {
   "cell_type": "markdown",
   "metadata": {},
   "source": [
    "Магазину нужен инструмент, который будет искать токсичные комментарии и отправлять их на модерацию. \n",
    "\n",
    "Необходимо обучить модель классифицировать комментарии на позитивные и негативные. В вашем распоряжении набор данных с разметкой о токсичности правок.\n",
    "\n",
    "Построить модель со значением метрики качества *F1* не меньше 0.75. \n",
    "\n",
    "**Описание данных**\n",
    "\n",
    "Данные находятся в файле `toxic_comments.csv`. Столбец *text* в нём содержит текст комментария, а *toxic* — целевой признак."
   ]
  },
  {
   "cell_type": "markdown",
   "metadata": {},
   "source": [
    "## Подготовка"
   ]
  },
  {
   "cell_type": "code",
   "execution_count": 4,
   "metadata": {
    "scrolled": true
   },
   "outputs": [
    {
     "name": "stderr",
     "output_type": "stream",
     "text": [
      "[nltk_data] Downloading package stopwords to /home/jovyan/nltk_data...\n",
      "[nltk_data]   Package stopwords is already up-to-date!\n"
     ]
    }
   ],
   "source": [
    "import pandas as pd\n",
    "import numpy as np\n",
    "from matplotlib import pyplot as plt\n",
    "import re\n",
    "from catboost import CatBoostClassifier\n",
    "from sklearn.model_selection import train_test_split\n",
    "from sklearn.dummy import DummyClassifier\n",
    "from sklearn.feature_extraction.text import TfidfVectorizer\n",
    "from sklearn.linear_model import LogisticRegression\n",
    "from sklearn.metrics import f1_score\n",
    "import nltk\n",
    "from nltk.corpus import stopwords as nltk_stopwords\n",
    "import spacy\n",
    "from scipy.sparse import vstack\n",
    "\n",
    "nltk.download('stopwords');"
   ]
  },
  {
   "cell_type": "code",
   "execution_count": 5,
   "metadata": {},
   "outputs": [],
   "source": [
    "data = pd.read_csv('/datasets/toxic_comments.csv')"
   ]
  },
  {
   "cell_type": "code",
   "execution_count": 6,
   "metadata": {
    "scrolled": true
   },
   "outputs": [
    {
     "data": {
      "text/html": [
       "<div>\n",
       "<style scoped>\n",
       "    .dataframe tbody tr th:only-of-type {\n",
       "        vertical-align: middle;\n",
       "    }\n",
       "\n",
       "    .dataframe tbody tr th {\n",
       "        vertical-align: top;\n",
       "    }\n",
       "\n",
       "    .dataframe thead th {\n",
       "        text-align: right;\n",
       "    }\n",
       "</style>\n",
       "<table border=\"1\" class=\"dataframe\">\n",
       "  <thead>\n",
       "    <tr style=\"text-align: right;\">\n",
       "      <th></th>\n",
       "      <th>Unnamed: 0</th>\n",
       "      <th>text</th>\n",
       "      <th>toxic</th>\n",
       "    </tr>\n",
       "  </thead>\n",
       "  <tbody>\n",
       "    <tr>\n",
       "      <th>0</th>\n",
       "      <td>0</td>\n",
       "      <td>Explanation\\nWhy the edits made under my usern...</td>\n",
       "      <td>0</td>\n",
       "    </tr>\n",
       "    <tr>\n",
       "      <th>1</th>\n",
       "      <td>1</td>\n",
       "      <td>D'aww! He matches this background colour I'm s...</td>\n",
       "      <td>0</td>\n",
       "    </tr>\n",
       "    <tr>\n",
       "      <th>2</th>\n",
       "      <td>2</td>\n",
       "      <td>Hey man, I'm really not trying to edit war. It...</td>\n",
       "      <td>0</td>\n",
       "    </tr>\n",
       "    <tr>\n",
       "      <th>3</th>\n",
       "      <td>3</td>\n",
       "      <td>\"\\nMore\\nI can't make any real suggestions on ...</td>\n",
       "      <td>0</td>\n",
       "    </tr>\n",
       "    <tr>\n",
       "      <th>4</th>\n",
       "      <td>4</td>\n",
       "      <td>You, sir, are my hero. Any chance you remember...</td>\n",
       "      <td>0</td>\n",
       "    </tr>\n",
       "  </tbody>\n",
       "</table>\n",
       "</div>"
      ],
      "text/plain": [
       "   Unnamed: 0                                               text  toxic\n",
       "0           0  Explanation\\nWhy the edits made under my usern...      0\n",
       "1           1  D'aww! He matches this background colour I'm s...      0\n",
       "2           2  Hey man, I'm really not trying to edit war. It...      0\n",
       "3           3  \"\\nMore\\nI can't make any real suggestions on ...      0\n",
       "4           4  You, sir, are my hero. Any chance you remember...      0"
      ]
     },
     "execution_count": 6,
     "metadata": {},
     "output_type": "execute_result"
    }
   ],
   "source": [
    "data.head()"
   ]
  },
  {
   "cell_type": "code",
   "execution_count": 7,
   "metadata": {
    "scrolled": false
   },
   "outputs": [
    {
     "name": "stdout",
     "output_type": "stream",
     "text": [
      "<class 'pandas.core.frame.DataFrame'>\n",
      "RangeIndex: 159292 entries, 0 to 159291\n",
      "Data columns (total 3 columns):\n",
      " #   Column      Non-Null Count   Dtype \n",
      "---  ------      --------------   ----- \n",
      " 0   Unnamed: 0  159292 non-null  int64 \n",
      " 1   text        159292 non-null  object\n",
      " 2   toxic       159292 non-null  int64 \n",
      "dtypes: int64(2), object(1)\n",
      "memory usage: 3.6+ MB\n"
     ]
    }
   ],
   "source": [
    "data.info()"
   ]
  },
  {
   "cell_type": "code",
   "execution_count": 8,
   "metadata": {},
   "outputs": [
    {
     "data": {
      "text/plain": [
       "0"
      ]
     },
     "execution_count": 8,
     "metadata": {},
     "output_type": "execute_result"
    }
   ],
   "source": [
    "data.duplicated().sum()"
   ]
  },
  {
   "cell_type": "code",
   "execution_count": 9,
   "metadata": {
    "scrolled": true
   },
   "outputs": [
    {
     "data": {
      "text/plain": [
       "Unnamed: 0    0\n",
       "text          0\n",
       "toxic         0\n",
       "dtype: int64"
      ]
     },
     "execution_count": 9,
     "metadata": {},
     "output_type": "execute_result"
    }
   ],
   "source": [
    "data.isna().sum()"
   ]
  },
  {
   "cell_type": "code",
   "execution_count": 7,
   "metadata": {
    "scrolled": true
   },
   "outputs": [
    {
     "data": {
      "text/plain": [
       "(159292, 3)"
      ]
     },
     "execution_count": 7,
     "metadata": {},
     "output_type": "execute_result"
    }
   ],
   "source": [
    "data.shape"
   ]
  },
  {
   "cell_type": "code",
   "execution_count": 8,
   "metadata": {},
   "outputs": [
    {
     "data": {
      "text/plain": [
       "0    143106\n",
       "1     16186\n",
       "Name: toxic, dtype: int64"
      ]
     },
     "execution_count": 8,
     "metadata": {},
     "output_type": "execute_result"
    }
   ],
   "source": [
    "data['toxic'].value_counts()"
   ]
  },
  {
   "cell_type": "code",
   "execution_count": 9,
   "metadata": {},
   "outputs": [],
   "source": [
    "def clear_text(text):\n",
    "    text = \" \".join(re.sub(r\"[^a-zA-z' ]\", ' ', text).split()).lower()\n",
    "    return text"
   ]
  },
  {
   "cell_type": "code",
   "execution_count": 10,
   "metadata": {},
   "outputs": [],
   "source": [
    "nlp = spacy.load('en_core_web_sm', disable=['parser', 'ner'])"
   ]
  },
  {
   "cell_type": "code",
   "execution_count": 11,
   "metadata": {},
   "outputs": [],
   "source": [
    "def lemmatize(sentence):\n",
    "    sentence = clear_text(sentence)\n",
    "    doc = nlp(sentence)\n",
    "    return \" \".join([token.lemma_ for token in doc])"
   ]
  },
  {
   "cell_type": "code",
   "execution_count": 12,
   "metadata": {
    "scrolled": false
   },
   "outputs": [
    {
     "name": "stdout",
     "output_type": "stream",
     "text": [
      "Исходный текст: Explanation\n",
      "Why the edits made under my username Hardcore Metallica Fan were reverted? They weren't vandalisms, just closure on some GAs after I voted at New York Dolls FAC. And please don't remove the template from the talk page since I'm retired now.89.205.38.27\n",
      "Лемматизированный текст: explanation why the edit make under my username hardcore metallica fan be revert they be not vandalism just closure on some gas after I vote at new york doll fac and please do not remove the template from the talk page since I be retire now\n"
     ]
    }
   ],
   "source": [
    "corpus = data['text'].values\n",
    "print(\"Исходный текст:\", corpus[0])\n",
    "print(\"Лемматизированный текст:\", lemmatize(corpus[0]))"
   ]
  },
  {
   "cell_type": "code",
   "execution_count": 13,
   "metadata": {
    "scrolled": true
   },
   "outputs": [
    {
     "name": "stdout",
     "output_type": "stream",
     "text": [
      "CPU times: user 17min 33s, sys: 2.65 s, total: 17min 36s\n",
      "Wall time: 17min 37s\n"
     ]
    },
    {
     "data": {
      "text/html": [
       "<div>\n",
       "<style scoped>\n",
       "    .dataframe tbody tr th:only-of-type {\n",
       "        vertical-align: middle;\n",
       "    }\n",
       "\n",
       "    .dataframe tbody tr th {\n",
       "        vertical-align: top;\n",
       "    }\n",
       "\n",
       "    .dataframe thead th {\n",
       "        text-align: right;\n",
       "    }\n",
       "</style>\n",
       "<table border=\"1\" class=\"dataframe\">\n",
       "  <thead>\n",
       "    <tr style=\"text-align: right;\">\n",
       "      <th></th>\n",
       "      <th>Unnamed: 0</th>\n",
       "      <th>text</th>\n",
       "      <th>toxic</th>\n",
       "      <th>lemm_text</th>\n",
       "    </tr>\n",
       "  </thead>\n",
       "  <tbody>\n",
       "    <tr>\n",
       "      <th>0</th>\n",
       "      <td>0</td>\n",
       "      <td>Explanation\\nWhy the edits made under my usern...</td>\n",
       "      <td>0</td>\n",
       "      <td>explanation why the edit make under my usernam...</td>\n",
       "    </tr>\n",
       "    <tr>\n",
       "      <th>1</th>\n",
       "      <td>1</td>\n",
       "      <td>D'aww! He matches this background colour I'm s...</td>\n",
       "      <td>0</td>\n",
       "      <td>d'aww he match this background colour I be see...</td>\n",
       "    </tr>\n",
       "    <tr>\n",
       "      <th>2</th>\n",
       "      <td>2</td>\n",
       "      <td>Hey man, I'm really not trying to edit war. It...</td>\n",
       "      <td>0</td>\n",
       "      <td>hey man I be really not try to edit war it be ...</td>\n",
       "    </tr>\n",
       "    <tr>\n",
       "      <th>3</th>\n",
       "      <td>3</td>\n",
       "      <td>\"\\nMore\\nI can't make any real suggestions on ...</td>\n",
       "      <td>0</td>\n",
       "      <td>more I can not make any real suggestion on imp...</td>\n",
       "    </tr>\n",
       "    <tr>\n",
       "      <th>4</th>\n",
       "      <td>4</td>\n",
       "      <td>You, sir, are my hero. Any chance you remember...</td>\n",
       "      <td>0</td>\n",
       "      <td>you sir be my hero any chance you remember wha...</td>\n",
       "    </tr>\n",
       "  </tbody>\n",
       "</table>\n",
       "</div>"
      ],
      "text/plain": [
       "   Unnamed: 0                                               text  toxic  \\\n",
       "0           0  Explanation\\nWhy the edits made under my usern...      0   \n",
       "1           1  D'aww! He matches this background colour I'm s...      0   \n",
       "2           2  Hey man, I'm really not trying to edit war. It...      0   \n",
       "3           3  \"\\nMore\\nI can't make any real suggestions on ...      0   \n",
       "4           4  You, sir, are my hero. Any chance you remember...      0   \n",
       "\n",
       "                                           lemm_text  \n",
       "0  explanation why the edit make under my usernam...  \n",
       "1  d'aww he match this background colour I be see...  \n",
       "2  hey man I be really not try to edit war it be ...  \n",
       "3  more I can not make any real suggestion on imp...  \n",
       "4  you sir be my hero any chance you remember wha...  "
      ]
     },
     "execution_count": 13,
     "metadata": {},
     "output_type": "execute_result"
    }
   ],
   "source": [
    "%%time\n",
    "data['lemm_text'] = data['text'].apply(lemmatize)\n",
    "data.head()"
   ]
  },
  {
   "cell_type": "code",
   "execution_count": 14,
   "metadata": {
    "scrolled": false
   },
   "outputs": [
    {
     "name": "stdout",
     "output_type": "stream",
     "text": [
      "Исходный текст:\n",
      " Explanation\n",
      "Why the edits made under my username Hardcore Metallica Fan were reverted? They weren't vandalisms, just closure on some GAs after I voted at New York Dolls FAC. And please don't remove the template from the talk page since I'm retired now.89.205.38.27 \n",
      "\n",
      "Очищенный и лемматизированный текст:\n",
      " explanation why the edit make under my username hardcore metallica fan be revert they be not vandalism just closure on some gas after I vote at new york doll fac and please do not remove the template from the talk page since I be retire now \n",
      "\n",
      "Исходный текст:\n",
      " D'aww! He matches this background colour I'm seemingly stuck with. Thanks.  (talk) 21:51, January 11, 2016 (UTC) \n",
      "\n",
      "Очищенный и лемматизированный текст:\n",
      " d'aww he match this background colour I be seemingly stuck with thank talk january utc \n",
      "\n",
      "Исходный текст:\n",
      " Hey man, I'm really not trying to edit war. It's just that this guy is constantly removing relevant information and talking to me through edits instead of my talk page. He seems to care more about the formatting than the actual info. \n",
      "\n",
      "Очищенный и лемматизированный текст:\n",
      " hey man I be really not try to edit war it be just that this guy be constantly remove relevant information and talk to I through edit instead of my talk page he seem to care more about the formatting than the actual info \n",
      "\n"
     ]
    }
   ],
   "source": [
    "for i in range(3):\n",
    "    print(\"Исходный текст:\\n\", data['text'][i], '\\n')\n",
    "    print(\"Очищенный и лемматизированный текст:\\n\", data['lemm_text'][i], '\\n')"
   ]
  },
  {
   "cell_type": "code",
   "execution_count": 15,
   "metadata": {},
   "outputs": [
    {
     "name": "stdout",
     "output_type": "stream",
     "text": [
      "Размеры и размерности выборок: (95574,) (31859,) (31859,)\n"
     ]
    }
   ],
   "source": [
    "features = data['lemm_text'].values\n",
    "target = data['toxic']\n",
    "\n",
    "features_learn, features_test, target_learn, target_test = train_test_split(\n",
    "    features, target, test_size=0.20, random_state=12345)\n",
    "features_train, features_valid, target_train, target_valid = train_test_split(\n",
    "    features_learn, target_learn, test_size=0.25, random_state=12345)\n",
    "\n",
    "print('Размеры и размерности выборок:', features_train.shape, features_valid.shape, features_test.shape)"
   ]
  },
  {
   "cell_type": "code",
   "execution_count": 16,
   "metadata": {
    "scrolled": true
   },
   "outputs": [
    {
     "name": "stdout",
     "output_type": "stream",
     "text": [
      "Размеры и размерности выборок: (95574, 113332) (31859, 113332) (31859, 113332)\n"
     ]
    }
   ],
   "source": [
    "stopwords = set(nltk_stopwords.words('english'))\n",
    "count_tf_idf = TfidfVectorizer(stop_words=stopwords)\n",
    "\n",
    "features_train = count_tf_idf.fit_transform(features_train)\n",
    "features_valid = count_tf_idf.transform(features_valid)\n",
    "features_test = count_tf_idf.transform(features_test)\n",
    "\n",
    "features_learn = vstack([features_train, features_valid])\n",
    "\n",
    "print('Размеры и размерности выборок:', features_train.shape, features_valid.shape, features_test.shape)"
   ]
  },
  {
   "cell_type": "markdown",
   "metadata": {},
   "source": [
    "        Данные считаны и записаны в переменную data. Пропусков и дубликатов не обнаружено. Текст очищен и лемматизирован.\n",
    "     В качестве обучающих признаков взято значение TFIDF. Исследован баланс классов: большая часть данных в столбце \n",
    "     'toxic' равна 0, необходимо провести баллансирование классов. Данные разбиты на 3 выборки в соотношении 3:1:1."
   ]
  },
  {
   "cell_type": "markdown",
   "metadata": {},
   "source": [
    "## Обучение"
   ]
  },
  {
   "cell_type": "code",
   "execution_count": 18,
   "metadata": {
    "scrolled": true
   },
   "outputs": [
    {
     "name": "stdout",
     "output_type": "stream",
     "text": [
      "Значение C: 5 Значение penalty: l1 Значение F1: 0.7522008947900131\n",
      "Значение C: 5 Значение penalty: l2 Значение F1: 0.7545197740112993\n",
      "Значение C: 6 Значение penalty: l1 Значение F1: 0.7509778357235986\n",
      "Значение C: 6 Значение penalty: l2 Значение F1: 0.7552904416986224\n",
      "Значение C: 7 Значение penalty: l1 Значение F1: 0.7505100553774411\n",
      "Значение C: 7 Значение penalty: l2 Значение F1: 0.7551689719093111\n",
      "Значение C: 8 Значение penalty: l1 Значение F1: 0.7503287070854638\n",
      "Значение C: 8 Значение penalty: l2 Значение F1: 0.7544738725841088\n",
      "Значение C: 9 Значение penalty: l1 Значение F1: 0.7508802816901408\n",
      "Значение C: 9 Значение penalty: l2 Значение F1: 0.7543708799082832\n",
      "Значение C: 10 Значение penalty: l1 Значение F1: 0.7481296758104737\n",
      "Значение C: 10 Значение penalty: l2 Значение F1: 0.7533026995979321\n",
      "Значение C: 11 Значение penalty: l1 Значение F1: 0.7482014388489209\n",
      "Значение C: 11 Значение penalty: l2 Значение F1: 0.7529513389000864\n",
      "Значение C: 12 Значение penalty: l1 Значение F1: 0.745697896749522\n",
      "Значение C: 12 Значение penalty: l2 Значение F1: 0.7525951557093425\n",
      "Значение C: 13 Значение penalty: l1 Значение F1: 0.7431597528684907\n",
      "Значение C: 13 Значение penalty: l2 Значение F1: 0.7528528094756609\n",
      "Значение C: 14 Значение penalty: l1 Значение F1: 0.7421587395081726\n",
      "Значение C: 14 Значение penalty: l2 Значение F1: 0.7518818760856978\n",
      "Значение C: 15 Значение penalty: l1 Значение F1: 0.7429920330480967\n",
      "Значение C: 15 Значение penalty: l2 Значение F1: 0.7516292541636497\n",
      "Лучшее значение C: 6 Лучшее значение penalty: l2 Лучшее значение F1: 0.755\n",
      "CPU times: user 3min 13s, sys: 2min 28s, total: 5min 41s\n",
      "Wall time: 5min 42s\n"
     ]
    }
   ],
   "source": [
    "%%time\n",
    "best_f1 = 0\n",
    "for c in range(5, 16, 1):\n",
    "    for penalty in ['l1', 'l2']:\n",
    "        model = LogisticRegression(random_state=12345, solver='liblinear', C=c,\n",
    "                                   max_iter=300, penalty=penalty, class_weight='balanced')\n",
    "        model.fit(features_train, target_train)\n",
    "        predict = model.predict(features_valid)\n",
    "        f1 = f1_score(target_valid, predict)\n",
    "        if f1 > best_f1:\n",
    "            best_f1 = f1\n",
    "            best_c = c\n",
    "            best_penalty = penalty\n",
    "        print(f'Значение C: {c} Значение penalty: {penalty} Значение F1: {f1}')\n",
    "print(f'Лучшее значение C: {best_c} Лучшее значение penalty: {best_penalty} Лучшее значение F1: {best_f1:.3f}')"
   ]
  },
  {
   "cell_type": "code",
   "execution_count": 19,
   "metadata": {},
   "outputs": [
    {
     "name": "stdout",
     "output_type": "stream",
     "text": [
      "Значение depth: None Значение iterations: 300 Значение F1: 0.7376246600181323\n",
      "Значение depth: None Значение iterations: 400 Значение F1: 0.748294434470377\n",
      "Значение depth: 5 Значение iterations: 300 Значение F1: 0.732188527584947\n",
      "Значение depth: 5 Значение iterations: 400 Значение F1: 0.7411296162201304\n",
      "Значение depth: 6 Значение iterations: 300 Значение F1: 0.7376246600181323\n",
      "Значение depth: 6 Значение iterations: 400 Значение F1: 0.748294434470377\n",
      "Лучшее значение depth: None Лучшее значение iterations: 400 Лучшее значение F1: 0.748\n",
      "CPU times: user 57min 35s, sys: 29.7 s, total: 58min 5s\n",
      "Wall time: 58min 18s\n"
     ]
    }
   ],
   "source": [
    "%%time\n",
    "best_f1 = 0\n",
    "for depth in [None] + [i for i in range(5, 7)]:\n",
    "    for iterations in range(300, 500, 100):\n",
    "        model = CatBoostClassifier(depth=depth, learning_rate=0.2, iterations=iterations, silent=True, random_state=12345)\n",
    "        model.fit(features_train, target_train)\n",
    "        predict = model.predict(features_valid)\n",
    "        f1 = f1_score(target_valid, predict)\n",
    "        if f1 > best_f1:\n",
    "            best_f1 = f1\n",
    "            best_depth = depth\n",
    "            best_iterations = iterations\n",
    "        print(f'Значение depth: {depth} Значение iterations: {iterations} Значение F1: {f1}')\n",
    "print(f'Лучшее значение depth: {best_depth} Лучшее значение iterations: {best_iterations} Лучшее значение F1: {best_f1:.3f}')"
   ]
  },
  {
   "cell_type": "markdown",
   "metadata": {},
   "source": [
    "        Изучено две модели: LogisticRegression и CatBoostClassifier. Для моделей найдены лучшие параметры. Лучший результат\n",
    "     дала модель LogisticRegression, значение f1 на валидационной выборке равно 0,755."
   ]
  },
  {
   "cell_type": "markdown",
   "metadata": {},
   "source": [
    "## Выводы"
   ]
  },
  {
   "cell_type": "code",
   "execution_count": 21,
   "metadata": {
    "scrolled": true
   },
   "outputs": [
    {
     "name": "stdout",
     "output_type": "stream",
     "text": [
      "Значение F1: 0.772\n"
     ]
    }
   ],
   "source": [
    "model = LogisticRegression(random_state=12345, solver='liblinear', C=6, max_iter=300, penalty='l2', class_weight='balanced')\n",
    "model.fit(features_train, target_train)\n",
    "predict = model.predict(features_test)\n",
    "\n",
    "f1 = f1_score(target_test, predict)\n",
    "print(f'Значение F1: {f1:.3f}')"
   ]
  },
  {
   "cell_type": "code",
   "execution_count": 19,
   "metadata": {},
   "outputs": [
    {
     "name": "stdout",
     "output_type": "stream",
     "text": [
      "Значение F1 для константной модели: 0.168\n"
     ]
    }
   ],
   "source": [
    "dummy_class = DummyClassifier(strategy=\"uniform\", random_state=12345)\n",
    "dummy_class.fit(features_learn, target_learn)\n",
    "dummy_predict = dummy_class.predict(features_test)\n",
    "dummy_f1 = f1_score(target_test, dummy_predict)\n",
    "print(f'Значение F1 для модели DummyClassifier: {dummy_f1:.3f}')"
   ]
  },
  {
   "cell_type": "markdown",
   "metadata": {},
   "source": [
    "        Модель LogisticRegression с лучшими параметрами обучена на обучающей выборке и протестирована на\n",
    "     тестовой, значение f1 равно 0.772. Проведена проверка на адекватность с помощью модели DummyClassifier."
   ]
  },
  {
   "cell_type": "markdown",
   "metadata": {},
   "source": [
    "## Общий вывод\n",
    "### Подготовка\n",
    "    - Данные считаны и записаны в переменную data;\n",
    "    - Пропусков и дубликатов не обнаружено;\n",
    "    - Текст очищен и лемматизирован;\n",
    "    - В качестве обучающих признаков взято значение TFIDF;\n",
    "    - Исследован баланс классов: большая часть данных в столбце 'toxic' равна 0, необходимо провести баллансирование \n",
    "    классов;\n",
    "    - Данные разбиты на 3 выборки в соотношении 3:1:1.\n",
    "    \n",
    "### Обучение\n",
    "    - Изучено две модели: LogisticRegression и CatBoostClassifier;\n",
    "    - Для моделей найдены лучшие параметры;\n",
    "    - Лучший результат дала модель LogisticRegression, значение f1 на валидационной выборке равно 0,755.\n",
    "### Выводы\n",
    "    - Модель LogisticRegression с лучшими параметрами обучена на обучающей выборке;\n",
    "    - Модель была протестирована на тестовой, значение f1 равно 0,772;\n",
    "    - Проведена проверка на адекватность с помощью модели DummyClassifier."
   ]
  }
 ],
 "metadata": {
  "ExecuteTimeLog": [
   {
    "duration": 118,
    "start_time": "2023-08-25T23:40:08.617Z"
   },
   {
    "duration": 152,
    "start_time": "2023-08-25T23:40:19.941Z"
   },
   {
    "duration": 149,
    "start_time": "2023-08-25T23:40:40.797Z"
   },
   {
    "duration": 125,
    "start_time": "2023-08-25T23:41:08.621Z"
   },
   {
    "duration": 114,
    "start_time": "2023-08-25T23:41:14.198Z"
   },
   {
    "duration": 87,
    "start_time": "2023-08-25T23:41:20.503Z"
   },
   {
    "duration": 854,
    "start_time": "2023-08-26T00:23:21.387Z"
   },
   {
    "duration": 2419,
    "start_time": "2023-08-26T00:23:22.874Z"
   },
   {
    "duration": 35,
    "start_time": "2023-08-26T00:23:31.659Z"
   },
   {
    "duration": 3,
    "start_time": "2023-08-26T00:26:16.088Z"
   },
   {
    "duration": 934,
    "start_time": "2023-08-26T00:26:20.321Z"
   },
   {
    "duration": 11,
    "start_time": "2023-08-26T00:26:26.369Z"
   },
   {
    "duration": 2,
    "start_time": "2023-08-26T00:42:48.565Z"
   },
   {
    "duration": 838,
    "start_time": "2023-08-26T00:42:49.140Z"
   },
   {
    "duration": 7,
    "start_time": "2023-08-26T00:42:50.500Z"
   },
   {
    "duration": 38,
    "start_time": "2023-08-26T00:42:56.276Z"
   },
   {
    "duration": 22,
    "start_time": "2023-08-26T00:45:29.676Z"
   },
   {
    "duration": 239,
    "start_time": "2023-08-26T00:45:39.071Z"
   },
   {
    "duration": 28,
    "start_time": "2023-08-26T00:45:43.404Z"
   },
   {
    "duration": 5,
    "start_time": "2023-08-26T00:46:09.381Z"
   },
   {
    "duration": 3,
    "start_time": "2023-08-26T00:46:27.731Z"
   },
   {
    "duration": 50,
    "start_time": "2023-08-26T00:46:47.284Z"
   },
   {
    "duration": 657,
    "start_time": "2023-08-26T00:46:50.500Z"
   },
   {
    "duration": 2407,
    "start_time": "2023-08-26T00:46:51.604Z"
   },
   {
    "duration": 13,
    "start_time": "2023-08-26T00:47:05.180Z"
   },
   {
    "duration": 34,
    "start_time": "2023-08-26T00:47:05.932Z"
   },
   {
    "duration": 267,
    "start_time": "2023-08-26T00:47:06.564Z"
   },
   {
    "duration": 34,
    "start_time": "2023-08-26T00:47:07.323Z"
   },
   {
    "duration": 3,
    "start_time": "2023-08-26T00:47:07.668Z"
   },
   {
    "duration": 2133,
    "start_time": "2023-08-26T00:47:08.116Z"
   },
   {
    "duration": 2,
    "start_time": "2023-08-26T00:47:28.156Z"
   },
   {
    "duration": 660,
    "start_time": "2023-08-26T00:48:13.403Z"
   },
   {
    "duration": 2428,
    "start_time": "2023-08-26T00:48:14.065Z"
   },
   {
    "duration": 11,
    "start_time": "2023-08-26T00:48:17.484Z"
   },
   {
    "duration": 278,
    "start_time": "2023-08-26T00:48:17.932Z"
   },
   {
    "duration": 241,
    "start_time": "2023-08-26T00:48:18.251Z"
   },
   {
    "duration": 28,
    "start_time": "2023-08-26T00:48:18.924Z"
   },
   {
    "duration": 3,
    "start_time": "2023-08-26T00:48:19.444Z"
   },
   {
    "duration": 2181,
    "start_time": "2023-08-26T00:48:20.036Z"
   },
   {
    "duration": 5,
    "start_time": "2023-08-26T00:48:22.219Z"
   },
   {
    "duration": 739,
    "start_time": "2023-08-26T00:48:38.268Z"
   },
   {
    "duration": 3,
    "start_time": "2023-08-26T00:48:43.763Z"
   },
   {
    "duration": 729,
    "start_time": "2023-08-26T00:48:44.612Z"
   },
   {
    "duration": 5,
    "start_time": "2023-08-26T00:48:56.996Z"
   },
   {
    "duration": 7,
    "start_time": "2023-08-26T00:49:09.564Z"
   },
   {
    "duration": 5,
    "start_time": "2023-08-26T00:49:19.212Z"
   },
   {
    "duration": 2430,
    "start_time": "2023-08-26T00:49:25.731Z"
   },
   {
    "duration": 7,
    "start_time": "2023-08-26T00:49:30.916Z"
   },
   {
    "duration": 11,
    "start_time": "2023-08-26T00:49:33.652Z"
   },
   {
    "duration": 34,
    "start_time": "2023-08-26T00:49:34.220Z"
   },
   {
    "duration": 246,
    "start_time": "2023-08-26T00:49:35.091Z"
   },
   {
    "duration": 29,
    "start_time": "2023-08-26T00:49:35.804Z"
   },
   {
    "duration": 23,
    "start_time": "2023-08-26T00:49:40.188Z"
   },
   {
    "duration": 715,
    "start_time": "2023-08-26T00:49:40.995Z"
   },
   {
    "duration": 49,
    "start_time": "2023-08-26T00:50:03.420Z"
   },
   {
    "duration": 712,
    "start_time": "2023-08-26T00:50:15.755Z"
   },
   {
    "duration": 2426,
    "start_time": "2023-08-26T00:50:18.388Z"
   },
   {
    "duration": 4,
    "start_time": "2023-08-26T00:50:24.699Z"
   },
   {
    "duration": 4,
    "start_time": "2023-08-26T00:50:26.659Z"
   },
   {
    "duration": 721,
    "start_time": "2023-08-26T00:50:27.444Z"
   },
   {
    "duration": 6,
    "start_time": "2023-08-26T00:50:39.516Z"
   },
   {
    "duration": 3,
    "start_time": "2023-08-26T00:50:58.763Z"
   },
   {
    "duration": 710,
    "start_time": "2023-08-26T00:50:59.227Z"
   },
   {
    "duration": 3,
    "start_time": "2023-08-26T00:51:25.308Z"
   },
   {
    "duration": 740,
    "start_time": "2023-08-26T00:51:25.787Z"
   },
   {
    "duration": 3,
    "start_time": "2023-08-26T00:54:11.408Z"
   },
   {
    "duration": 756,
    "start_time": "2023-08-26T00:54:11.482Z"
   },
   {
    "duration": 1466,
    "start_time": "2023-08-26T00:54:30.132Z"
   },
   {
    "duration": 819,
    "start_time": "2023-08-26T00:55:16.371Z"
   },
   {
    "duration": 122295,
    "start_time": "2023-08-26T00:55:41.907Z"
   },
   {
    "duration": 196297,
    "start_time": "2023-08-26T00:58:00.491Z"
   },
   {
    "duration": 972,
    "start_time": "2023-08-26T01:11:16.224Z"
   },
   {
    "duration": 3,
    "start_time": "2023-08-26T01:11:35.456Z"
   },
   {
    "duration": 67,
    "start_time": "2023-08-26T01:11:39.681Z"
   },
   {
    "duration": 3,
    "start_time": "2023-08-26T01:11:58.640Z"
   },
   {
    "duration": 3,
    "start_time": "2023-08-26T01:12:00.783Z"
   },
   {
    "duration": 15,
    "start_time": "2023-08-26T01:12:01.199Z"
   },
   {
    "duration": 3,
    "start_time": "2023-08-26T01:12:35.351Z"
   },
   {
    "duration": 1344,
    "start_time": "2023-08-26T01:12:35.527Z"
   },
   {
    "duration": 3,
    "start_time": "2023-08-26T01:17:14.966Z"
   },
   {
    "duration": 4,
    "start_time": "2023-08-26T01:17:15.375Z"
   },
   {
    "duration": 3,
    "start_time": "2023-08-26T03:23:58.441Z"
   },
   {
    "duration": 1020,
    "start_time": "2023-08-26T03:24:01.513Z"
   },
   {
    "duration": 16,
    "start_time": "2023-08-26T03:24:02.536Z"
   },
   {
    "duration": 41,
    "start_time": "2023-08-26T03:24:03.610Z"
   },
   {
    "duration": 249,
    "start_time": "2023-08-26T03:24:05.105Z"
   },
   {
    "duration": 28,
    "start_time": "2023-08-26T03:24:05.680Z"
   },
   {
    "duration": 3191,
    "start_time": "2023-08-26T03:24:10.610Z"
   },
   {
    "duration": 7,
    "start_time": "2023-08-26T03:24:18.263Z"
   },
   {
    "duration": 834,
    "start_time": "2023-08-26T03:24:18.870Z"
   },
   {
    "duration": 10,
    "start_time": "2023-08-26T03:24:34.393Z"
   },
   {
    "duration": 705,
    "start_time": "2023-08-26T03:24:52.393Z"
   },
   {
    "duration": 2438,
    "start_time": "2023-08-26T03:25:07.961Z"
   },
   {
    "duration": 4,
    "start_time": "2023-08-26T03:25:15.017Z"
   },
   {
    "duration": 884,
    "start_time": "2023-08-26T03:25:15.192Z"
   },
   {
    "duration": 4,
    "start_time": "2023-08-26T03:25:24.897Z"
   },
   {
    "duration": 15277,
    "start_time": "2023-08-26T03:25:37.505Z"
   },
   {
    "duration": 8,
    "start_time": "2023-08-26T03:25:55.150Z"
   },
   {
    "duration": 22081,
    "start_time": "2023-08-26T03:25:56.066Z"
   },
   {
    "duration": 8,
    "start_time": "2023-08-26T03:26:22.576Z"
   },
   {
    "duration": 0,
    "start_time": "2023-08-26T03:26:51.247Z"
   },
   {
    "duration": 0,
    "start_time": "2023-08-26T03:26:51.248Z"
   },
   {
    "duration": 9,
    "start_time": "2023-08-26T03:26:54.232Z"
   },
   {
    "duration": 4968,
    "start_time": "2023-08-26T03:26:55.728Z"
   },
   {
    "duration": 867,
    "start_time": "2023-08-26T03:27:09.280Z"
   },
   {
    "duration": 9,
    "start_time": "2023-08-26T03:27:17.640Z"
   },
   {
    "duration": 50379,
    "start_time": "2023-08-26T03:27:31.984Z"
   },
   {
    "duration": 8,
    "start_time": "2023-08-26T03:29:06.313Z"
   },
   {
    "duration": 473,
    "start_time": "2023-08-26T03:29:06.751Z"
   },
   {
    "duration": 3,
    "start_time": "2023-08-26T03:29:44.647Z"
   },
   {
    "duration": 5,
    "start_time": "2023-08-26T03:30:17.248Z"
   },
   {
    "duration": 54,
    "start_time": "2023-08-26T03:30:18.064Z"
   },
   {
    "duration": 3,
    "start_time": "2023-08-26T03:30:37.288Z"
   },
   {
    "duration": 7,
    "start_time": "2023-08-26T03:30:37.575Z"
   },
   {
    "duration": 9,
    "start_time": "2023-08-26T03:30:39.361Z"
   },
   {
    "duration": 12,
    "start_time": "2023-08-26T03:30:41.895Z"
   },
   {
    "duration": 4,
    "start_time": "2023-08-26T03:31:15.199Z"
   },
   {
    "duration": 3,
    "start_time": "2023-08-26T03:31:15.536Z"
   },
   {
    "duration": 5,
    "start_time": "2023-08-26T03:31:15.919Z"
   },
   {
    "duration": 11,
    "start_time": "2023-08-26T03:31:16.824Z"
   },
   {
    "duration": 14,
    "start_time": "2023-08-26T03:31:17.171Z"
   },
   {
    "duration": 13,
    "start_time": "2023-08-26T03:31:19.127Z"
   },
   {
    "duration": 15,
    "start_time": "2023-08-26T03:31:19.903Z"
   },
   {
    "duration": 859,
    "start_time": "2023-08-26T03:31:26.016Z"
   },
   {
    "duration": 8,
    "start_time": "2023-08-26T03:31:28.775Z"
   },
   {
    "duration": 854,
    "start_time": "2023-08-26T03:31:29.376Z"
   },
   {
    "duration": 3,
    "start_time": "2023-08-26T03:31:40.119Z"
   },
   {
    "duration": 804,
    "start_time": "2023-08-26T03:31:40.311Z"
   },
   {
    "duration": 8,
    "start_time": "2023-08-26T03:31:43.031Z"
   },
   {
    "duration": 84526,
    "start_time": "2023-08-26T03:31:43.607Z"
   },
   {
    "duration": 3,
    "start_time": "2023-08-26T03:34:34.774Z"
   },
   {
    "duration": 13,
    "start_time": "2023-08-26T03:34:42.279Z"
   },
   {
    "duration": 4,
    "start_time": "2023-08-26T03:35:08.960Z"
   },
   {
    "duration": 3,
    "start_time": "2023-08-26T03:35:09.302Z"
   },
   {
    "duration": 3,
    "start_time": "2023-08-26T03:35:21.030Z"
   },
   {
    "duration": 64,
    "start_time": "2023-08-26T03:35:21.927Z"
   },
   {
    "duration": 401,
    "start_time": "2023-08-26T03:35:38.446Z"
   },
   {
    "duration": 115,
    "start_time": "2023-08-26T03:35:43.167Z"
   },
   {
    "duration": 3,
    "start_time": "2023-08-26T03:36:02.975Z"
   },
   {
    "duration": 10,
    "start_time": "2023-08-26T03:36:03.519Z"
   },
   {
    "duration": 3,
    "start_time": "2023-08-26T03:36:06.735Z"
   },
   {
    "duration": 10,
    "start_time": "2023-08-26T03:36:07.302Z"
   },
   {
    "duration": 19,
    "start_time": "2023-08-26T03:36:59.598Z"
   },
   {
    "duration": 3355,
    "start_time": "2023-08-26T03:37:08.142Z"
   },
   {
    "duration": 4453,
    "start_time": "2023-08-26T03:37:23.678Z"
   },
   {
    "duration": 344,
    "start_time": "2023-08-26T03:37:33.166Z"
   },
   {
    "duration": 846,
    "start_time": "2023-08-26T03:37:37.190Z"
   },
   {
    "duration": 3,
    "start_time": "2023-08-26T03:37:42.231Z"
   },
   {
    "duration": 4,
    "start_time": "2023-08-26T03:37:43.070Z"
   },
   {
    "duration": 4,
    "start_time": "2023-08-26T03:38:11.334Z"
   },
   {
    "duration": 1355,
    "start_time": "2023-08-26T03:38:11.894Z"
   },
   {
    "duration": 6,
    "start_time": "2023-08-26T03:38:44.502Z"
   },
   {
    "duration": 344,
    "start_time": "2023-08-26T03:38:45.829Z"
   },
   {
    "duration": 22,
    "start_time": "2023-08-26T03:38:59.671Z"
   },
   {
    "duration": 15,
    "start_time": "2023-08-26T03:39:00.022Z"
   },
   {
    "duration": 222,
    "start_time": "2023-08-26T03:41:02.254Z"
   },
   {
    "duration": 9,
    "start_time": "2023-08-26T03:41:11.878Z"
   },
   {
    "duration": 3,
    "start_time": "2023-08-26T03:42:07.422Z"
   },
   {
    "duration": 3,
    "start_time": "2023-08-26T03:42:15.726Z"
   },
   {
    "duration": 3,
    "start_time": "2023-08-26T03:42:24.405Z"
   },
   {
    "duration": 3,
    "start_time": "2023-08-26T03:42:35.053Z"
   },
   {
    "duration": 34,
    "start_time": "2023-08-26T03:42:35.717Z"
   },
   {
    "duration": 3,
    "start_time": "2023-08-26T03:43:07.717Z"
   },
   {
    "duration": 4,
    "start_time": "2023-08-26T03:43:09.845Z"
   },
   {
    "duration": 3,
    "start_time": "2023-08-26T03:43:10.021Z"
   },
   {
    "duration": 7,
    "start_time": "2023-08-26T03:43:11.196Z"
   },
   {
    "duration": 10,
    "start_time": "2023-08-26T03:43:23.830Z"
   },
   {
    "duration": 50,
    "start_time": "2023-08-26T03:43:41.893Z"
   },
   {
    "duration": 10,
    "start_time": "2023-08-26T03:43:56.777Z"
   },
   {
    "duration": 31,
    "start_time": "2023-08-26T03:43:57.365Z"
   },
   {
    "duration": 10,
    "start_time": "2023-08-26T03:44:53.748Z"
   },
   {
    "duration": 20,
    "start_time": "2023-08-26T03:45:26.470Z"
   },
   {
    "duration": 4,
    "start_time": "2023-08-26T03:45:32.605Z"
   },
   {
    "duration": 28,
    "start_time": "2023-08-26T03:46:03.780Z"
   },
   {
    "duration": 4,
    "start_time": "2023-08-26T03:46:15.404Z"
   },
   {
    "duration": 9,
    "start_time": "2023-08-26T03:46:23.013Z"
   },
   {
    "duration": 4,
    "start_time": "2023-08-26T03:47:30.972Z"
   },
   {
    "duration": 9,
    "start_time": "2023-08-26T03:47:31.605Z"
   },
   {
    "duration": 8,
    "start_time": "2023-08-26T03:47:39.820Z"
   },
   {
    "duration": 16,
    "start_time": "2023-08-26T03:47:40.228Z"
   },
   {
    "duration": 20,
    "start_time": "2023-08-26T03:47:42.171Z"
   },
   {
    "duration": 860,
    "start_time": "2023-08-26T03:47:50.612Z"
   },
   {
    "duration": 8,
    "start_time": "2023-08-26T03:47:54.155Z"
   },
   {
    "duration": 953,
    "start_time": "2023-08-26T03:47:54.412Z"
   },
   {
    "duration": 1056,
    "start_time": "2023-08-26T03:48:26.940Z"
   },
   {
    "duration": 991,
    "start_time": "2023-08-26T03:48:30.271Z"
   },
   {
    "duration": 911,
    "start_time": "2023-08-26T03:48:41.501Z"
   },
   {
    "duration": 8,
    "start_time": "2023-08-26T03:48:48.507Z"
   },
   {
    "duration": 9934,
    "start_time": "2023-08-26T03:48:48.819Z"
   },
   {
    "duration": 4,
    "start_time": "2023-08-26T03:50:09.171Z"
   },
   {
    "duration": 9029,
    "start_time": "2023-08-26T03:50:10.893Z"
   },
   {
    "duration": 4,
    "start_time": "2023-08-26T03:51:08.251Z"
   },
   {
    "duration": 10,
    "start_time": "2023-08-26T03:51:13.331Z"
   },
   {
    "duration": 8,
    "start_time": "2023-08-26T03:51:22.842Z"
   },
   {
    "duration": 869,
    "start_time": "2023-08-26T03:51:23.915Z"
   },
   {
    "duration": 3675,
    "start_time": "2023-08-26T03:51:47.387Z"
   },
   {
    "duration": 4,
    "start_time": "2023-08-26T03:51:57.908Z"
   },
   {
    "duration": 6,
    "start_time": "2023-08-26T03:52:04.250Z"
   },
   {
    "duration": 4531,
    "start_time": "2023-08-26T03:52:12.435Z"
   },
   {
    "duration": 5,
    "start_time": "2023-08-26T03:52:19.923Z"
   },
   {
    "duration": 6,
    "start_time": "2023-08-26T03:52:27.210Z"
   },
   {
    "duration": 6,
    "start_time": "2023-08-26T03:52:35.419Z"
   },
   {
    "duration": 4,
    "start_time": "2023-08-26T03:53:45.506Z"
   },
   {
    "duration": 11,
    "start_time": "2023-08-26T03:53:46.083Z"
   },
   {
    "duration": 8,
    "start_time": "2023-08-26T03:53:46.475Z"
   },
   {
    "duration": 914,
    "start_time": "2023-08-26T03:53:46.898Z"
   },
   {
    "duration": 8,
    "start_time": "2023-08-26T03:53:48.450Z"
   },
   {
    "duration": 4,
    "start_time": "2023-08-26T03:55:59.586Z"
   },
   {
    "duration": 12,
    "start_time": "2023-08-26T03:56:01.306Z"
   },
   {
    "duration": 3,
    "start_time": "2023-08-26T03:56:24.906Z"
   },
   {
    "duration": 10,
    "start_time": "2023-08-26T03:56:25.546Z"
   },
   {
    "duration": 3,
    "start_time": "2023-08-26T03:56:32.298Z"
   },
   {
    "duration": 10,
    "start_time": "2023-08-26T03:56:32.833Z"
   },
   {
    "duration": 4,
    "start_time": "2023-08-26T03:57:47.129Z"
   },
   {
    "duration": 12,
    "start_time": "2023-08-26T03:57:47.657Z"
   },
   {
    "duration": 4,
    "start_time": "2023-08-26T03:58:03.345Z"
   },
   {
    "duration": 10,
    "start_time": "2023-08-26T03:58:03.897Z"
   },
   {
    "duration": 9,
    "start_time": "2023-08-26T03:58:10.128Z"
   },
   {
    "duration": 896,
    "start_time": "2023-08-26T03:58:10.369Z"
   },
   {
    "duration": 6,
    "start_time": "2023-08-26T03:58:12.241Z"
   },
   {
    "duration": 4,
    "start_time": "2023-08-26T03:59:23.097Z"
   },
   {
    "duration": 12,
    "start_time": "2023-08-26T03:59:23.793Z"
   },
   {
    "duration": 10,
    "start_time": "2023-08-26T03:59:37.081Z"
   },
   {
    "duration": 8,
    "start_time": "2023-08-26T03:59:38.721Z"
   },
   {
    "duration": 916,
    "start_time": "2023-08-26T03:59:39.666Z"
   },
   {
    "duration": 6,
    "start_time": "2023-08-26T03:59:41.209Z"
   },
   {
    "duration": 3,
    "start_time": "2023-08-26T04:01:50.505Z"
   },
   {
    "duration": 11,
    "start_time": "2023-08-26T04:01:51.000Z"
   },
   {
    "duration": 10,
    "start_time": "2023-08-26T04:01:51.371Z"
   },
   {
    "duration": 905,
    "start_time": "2023-08-26T04:01:51.745Z"
   },
   {
    "duration": 6,
    "start_time": "2023-08-26T04:01:52.651Z"
   },
   {
    "duration": 7,
    "start_time": "2023-08-26T04:02:46.786Z"
   },
   {
    "duration": 4,
    "start_time": "2023-08-26T04:05:03.224Z"
   },
   {
    "duration": 36,
    "start_time": "2023-08-26T04:05:03.943Z"
   },
   {
    "duration": 4,
    "start_time": "2023-08-26T04:05:23.031Z"
   },
   {
    "duration": 6,
    "start_time": "2023-08-26T04:05:23.712Z"
   },
   {
    "duration": 9,
    "start_time": "2023-08-26T04:05:26.151Z"
   },
   {
    "duration": 1001,
    "start_time": "2023-08-26T04:05:26.496Z"
   },
   {
    "duration": 7,
    "start_time": "2023-08-26T04:05:27.499Z"
   },
   {
    "duration": 3,
    "start_time": "2023-08-26T04:06:14.944Z"
   },
   {
    "duration": 1779,
    "start_time": "2023-08-26T04:39:58.495Z"
   },
   {
    "duration": 958,
    "start_time": "2023-08-26T04:40:01.422Z"
   },
   {
    "duration": 10,
    "start_time": "2023-08-26T04:40:02.864Z"
   },
   {
    "duration": 35,
    "start_time": "2023-08-26T04:40:03.265Z"
   },
   {
    "duration": 244,
    "start_time": "2023-08-26T04:40:03.647Z"
   },
   {
    "duration": 29,
    "start_time": "2023-08-26T04:40:04.007Z"
   },
   {
    "duration": 5,
    "start_time": "2023-08-26T04:40:04.606Z"
   },
   {
    "duration": 4,
    "start_time": "2023-08-26T04:40:04.966Z"
   },
   {
    "duration": 3,
    "start_time": "2023-08-26T04:40:05.287Z"
   },
   {
    "duration": 1409,
    "start_time": "2023-08-26T04:40:10.102Z"
   },
   {
    "duration": 1345694,
    "start_time": "2023-08-26T04:40:18.279Z"
   },
   {
    "duration": 5,
    "start_time": "2023-08-26T05:03:05.947Z"
   },
   {
    "duration": 12,
    "start_time": "2023-08-26T05:04:04.467Z"
   },
   {
    "duration": 5,
    "start_time": "2023-08-26T05:04:11.798Z"
   },
   {
    "duration": 4,
    "start_time": "2023-08-26T05:04:20.859Z"
   },
   {
    "duration": 22,
    "start_time": "2023-08-26T05:04:24.459Z"
   },
   {
    "duration": 14,
    "start_time": "2023-08-26T05:04:26.843Z"
   },
   {
    "duration": 181,
    "start_time": "2023-08-26T05:04:36.475Z"
   },
   {
    "duration": 32,
    "start_time": "2023-08-26T05:04:42.299Z"
   },
   {
    "duration": 53,
    "start_time": "2023-08-26T05:04:52.059Z"
   },
   {
    "duration": 13,
    "start_time": "2023-08-26T05:04:54.906Z"
   },
   {
    "duration": 11,
    "start_time": "2023-08-26T05:05:22.659Z"
   },
   {
    "duration": 3,
    "start_time": "2023-08-26T05:05:25.554Z"
   },
   {
    "duration": 14,
    "start_time": "2023-08-26T05:05:25.794Z"
   },
   {
    "duration": 5,
    "start_time": "2023-08-26T05:05:34.595Z"
   },
   {
    "duration": 4,
    "start_time": "2023-08-26T05:05:39.290Z"
   },
   {
    "duration": 4,
    "start_time": "2023-08-26T05:05:39.627Z"
   },
   {
    "duration": 3,
    "start_time": "2023-08-26T05:06:00.027Z"
   },
   {
    "duration": 10,
    "start_time": "2023-08-26T05:06:00.427Z"
   },
   {
    "duration": 9,
    "start_time": "2023-08-26T05:07:01.395Z"
   },
   {
    "duration": 4,
    "start_time": "2023-08-26T05:07:11.722Z"
   },
   {
    "duration": 7,
    "start_time": "2023-08-26T05:07:12.130Z"
   },
   {
    "duration": 2,
    "start_time": "2023-08-26T05:11:49.337Z"
   },
   {
    "duration": 8,
    "start_time": "2023-08-26T05:11:50.641Z"
   },
   {
    "duration": 3,
    "start_time": "2023-08-26T05:12:03.513Z"
   },
   {
    "duration": 7,
    "start_time": "2023-08-26T05:12:03.841Z"
   },
   {
    "duration": 53,
    "start_time": "2023-08-26T05:13:30.715Z"
   },
   {
    "duration": 4,
    "start_time": "2023-08-26T05:13:49.090Z"
   },
   {
    "duration": 7,
    "start_time": "2023-08-26T05:13:49.443Z"
   },
   {
    "duration": 49,
    "start_time": "2023-08-26T05:13:49.940Z"
   },
   {
    "duration": 3,
    "start_time": "2023-08-26T05:14:04.659Z"
   },
   {
    "duration": 8,
    "start_time": "2023-08-26T05:14:04.939Z"
   },
   {
    "duration": 57,
    "start_time": "2023-08-26T05:14:05.403Z"
   },
   {
    "duration": 3,
    "start_time": "2023-08-26T05:15:23.965Z"
   },
   {
    "duration": 8,
    "start_time": "2023-08-26T05:15:24.284Z"
   },
   {
    "duration": 52,
    "start_time": "2023-08-26T05:15:29.381Z"
   },
   {
    "duration": 3,
    "start_time": "2023-08-26T05:16:55.238Z"
   },
   {
    "duration": 2174,
    "start_time": "2023-08-26T05:17:34.683Z"
   },
   {
    "duration": 9,
    "start_time": "2023-08-26T05:17:41.983Z"
   },
   {
    "duration": 14,
    "start_time": "2023-08-26T05:18:29.517Z"
   },
   {
    "duration": 2323,
    "start_time": "2023-08-26T05:18:35.104Z"
   },
   {
    "duration": 6,
    "start_time": "2023-08-26T05:19:30.238Z"
   },
   {
    "duration": 5,
    "start_time": "2023-08-26T05:19:37.463Z"
   },
   {
    "duration": 5,
    "start_time": "2023-08-26T05:19:47.838Z"
   },
   {
    "duration": 6,
    "start_time": "2023-08-26T05:19:56.462Z"
   },
   {
    "duration": 6,
    "start_time": "2023-08-26T05:29:34.232Z"
   },
   {
    "duration": 2012,
    "start_time": "2023-08-26T05:30:08.942Z"
   },
   {
    "duration": 2442,
    "start_time": "2023-08-26T05:30:11.814Z"
   },
   {
    "duration": 10,
    "start_time": "2023-08-26T05:30:15.557Z"
   },
   {
    "duration": 34,
    "start_time": "2023-08-26T05:30:15.917Z"
   },
   {
    "duration": 269,
    "start_time": "2023-08-26T05:30:16.517Z"
   },
   {
    "duration": 30,
    "start_time": "2023-08-26T05:30:17.917Z"
   },
   {
    "duration": 3,
    "start_time": "2023-08-26T05:30:18.502Z"
   },
   {
    "duration": 3,
    "start_time": "2023-08-26T05:30:19.862Z"
   },
   {
    "duration": 4,
    "start_time": "2023-08-26T05:30:20.045Z"
   },
   {
    "duration": 126,
    "start_time": "2023-08-26T05:30:27.390Z"
   },
   {
    "duration": 3,
    "start_time": "2023-08-26T05:31:35.853Z"
   },
   {
    "duration": 1457,
    "start_time": "2023-08-26T05:31:36.281Z"
   },
   {
    "duration": 12,
    "start_time": "2023-08-26T05:31:50.141Z"
   },
   {
    "duration": 3,
    "start_time": "2023-08-26T05:32:04.461Z"
   },
   {
    "duration": 15,
    "start_time": "2023-08-26T05:32:04.679Z"
   },
   {
    "duration": 3243,
    "start_time": "2023-08-26T05:33:04.110Z"
   },
   {
    "duration": 299,
    "start_time": "2023-08-26T05:33:23.597Z"
   },
   {
    "duration": 774,
    "start_time": "2023-08-26T05:33:29.333Z"
   },
   {
    "duration": 4,
    "start_time": "2023-08-26T05:34:11.199Z"
   },
   {
    "duration": 3,
    "start_time": "2023-08-26T05:34:12.999Z"
   },
   {
    "duration": 600,
    "start_time": "2023-08-26T05:34:13.349Z"
   },
   {
    "duration": 558,
    "start_time": "2023-08-26T05:34:38.844Z"
   },
   {
    "duration": 5,
    "start_time": "2023-08-26T05:34:49.229Z"
   },
   {
    "duration": 15,
    "start_time": "2023-08-26T05:34:50.237Z"
   },
   {
    "duration": 514,
    "start_time": "2023-08-26T05:35:21.397Z"
   },
   {
    "duration": 58,
    "start_time": "2023-08-26T05:35:42.236Z"
   },
   {
    "duration": 5,
    "start_time": "2023-08-26T05:35:55.083Z"
   },
   {
    "duration": 456,
    "start_time": "2023-08-26T05:35:55.789Z"
   },
   {
    "duration": 53,
    "start_time": "2023-08-26T05:35:56.766Z"
   },
   {
    "duration": 5,
    "start_time": "2023-08-26T05:36:00.173Z"
   },
   {
    "duration": 35,
    "start_time": "2023-08-26T05:36:01.493Z"
   },
   {
    "duration": 3,
    "start_time": "2023-08-26T05:36:09.085Z"
   },
   {
    "duration": 38,
    "start_time": "2023-08-26T05:36:10.549Z"
   },
   {
    "duration": 3,
    "start_time": "2023-08-26T05:36:15.725Z"
   },
   {
    "duration": 2701,
    "start_time": "2023-08-26T05:36:16.621Z"
   },
   {
    "duration": 502,
    "start_time": "2023-08-26T05:36:32.933Z"
   },
   {
    "duration": 4,
    "start_time": "2023-08-26T05:36:34.125Z"
   },
   {
    "duration": 15,
    "start_time": "2023-08-26T05:36:48.444Z"
   },
   {
    "duration": 4,
    "start_time": "2023-08-26T05:37:07.326Z"
   },
   {
    "duration": 912,
    "start_time": "2023-08-26T05:37:09.726Z"
   },
   {
    "duration": 12,
    "start_time": "2023-08-26T05:37:11.109Z"
   },
   {
    "duration": 42,
    "start_time": "2023-08-26T05:37:11.589Z"
   },
   {
    "duration": 255,
    "start_time": "2023-08-26T05:37:12.221Z"
   },
   {
    "duration": 35,
    "start_time": "2023-08-26T05:37:13.677Z"
   },
   {
    "duration": 4,
    "start_time": "2023-08-26T05:37:14.078Z"
   },
   {
    "duration": 576,
    "start_time": "2023-08-26T05:37:18.052Z"
   },
   {
    "duration": 3,
    "start_time": "2023-08-26T05:37:19.229Z"
   },
   {
    "duration": 3,
    "start_time": "2023-08-26T05:37:20.564Z"
   },
   {
    "duration": 15,
    "start_time": "2023-08-26T05:37:23.205Z"
   },
   {
    "duration": 7,
    "start_time": "2023-08-26T05:37:41.357Z"
   },
   {
    "duration": 3,
    "start_time": "2023-08-26T05:38:04.238Z"
   },
   {
    "duration": 489,
    "start_time": "2023-08-26T05:38:04.501Z"
   },
   {
    "duration": 7,
    "start_time": "2023-08-26T05:38:04.993Z"
   },
   {
    "duration": 8785,
    "start_time": "2023-08-26T05:38:07.540Z"
   },
   {
    "duration": 1067234,
    "start_time": "2023-08-26T05:38:49.220Z"
   },
   {
    "duration": 1809,
    "start_time": "2023-08-26T06:22:11.672Z"
   },
   {
    "duration": 6,
    "start_time": "2023-08-26T06:22:22.008Z"
   },
   {
    "duration": 9,
    "start_time": "2023-08-26T06:22:52.064Z"
   },
   {
    "duration": 10,
    "start_time": "2023-08-26T06:22:54.712Z"
   },
   {
    "duration": 2,
    "start_time": "2023-08-26T06:22:57.816Z"
   },
   {
    "duration": 5,
    "start_time": "2023-08-26T06:23:01.440Z"
   },
   {
    "duration": 7,
    "start_time": "2023-08-26T06:23:22.624Z"
   },
   {
    "duration": 5,
    "start_time": "2023-08-26T06:23:36.569Z"
   },
   {
    "duration": 6,
    "start_time": "2023-08-26T06:23:40.815Z"
   },
   {
    "duration": 7218,
    "start_time": "2023-08-26T06:24:01.808Z"
   },
   {
    "duration": 8,
    "start_time": "2023-08-26T06:24:36.432Z"
   },
   {
    "duration": 5,
    "start_time": "2023-08-26T06:25:12.448Z"
   },
   {
    "duration": 4,
    "start_time": "2023-08-26T06:26:18.672Z"
   },
   {
    "duration": 4,
    "start_time": "2023-08-26T06:26:22.776Z"
   },
   {
    "duration": 5,
    "start_time": "2023-08-26T06:26:26.786Z"
   },
   {
    "duration": 9,
    "start_time": "2023-08-26T06:26:55.472Z"
   },
   {
    "duration": 83,
    "start_time": "2023-08-26T06:28:01.609Z"
   },
   {
    "duration": 6,
    "start_time": "2023-08-26T06:29:39.344Z"
   },
   {
    "duration": 48099,
    "start_time": "2023-08-26T06:29:59.896Z"
   },
   {
    "duration": 4,
    "start_time": "2023-08-26T06:30:53.608Z"
   },
   {
    "duration": 15,
    "start_time": "2023-08-26T06:31:16.503Z"
   },
   {
    "duration": 17,
    "start_time": "2023-08-26T06:31:18.751Z"
   },
   {
    "duration": 54385,
    "start_time": "2023-08-26T06:33:47.743Z"
   },
   {
    "duration": 5801,
    "start_time": "2023-08-26T06:34:43.335Z"
   },
   {
    "duration": 195862,
    "start_time": "2023-08-26T06:35:06.657Z"
   },
   {
    "duration": 24265,
    "start_time": "2023-08-26T06:38:33.648Z"
   },
   {
    "duration": 37461,
    "start_time": "2023-08-26T06:39:02.648Z"
   },
   {
    "duration": 48969,
    "start_time": "2023-08-26T06:39:42.120Z"
   },
   {
    "duration": 4818,
    "start_time": "2023-08-26T06:41:51.871Z"
   },
   {
    "duration": 711,
    "start_time": "2023-08-26T06:41:59.479Z"
   },
   {
    "duration": 2406,
    "start_time": "2023-08-26T06:42:03.175Z"
   },
   {
    "duration": 4912,
    "start_time": "2023-08-26T06:42:08.671Z"
   },
   {
    "duration": 16,
    "start_time": "2023-08-26T06:42:23.159Z"
   },
   {
    "duration": 24,
    "start_time": "2023-08-26T06:42:26.096Z"
   },
   {
    "duration": 21,
    "start_time": "2023-08-26T06:46:16.231Z"
   },
   {
    "duration": 28,
    "start_time": "2023-08-26T06:47:38.975Z"
   },
   {
    "duration": 3877,
    "start_time": "2023-08-26T06:47:49.630Z"
   },
   {
    "duration": 5,
    "start_time": "2023-08-26T06:47:56.699Z"
   },
   {
    "duration": 25,
    "start_time": "2023-08-26T06:48:11.174Z"
   },
   {
    "duration": 22,
    "start_time": "2023-08-26T06:48:15.422Z"
   },
   {
    "duration": 21,
    "start_time": "2023-08-26T06:48:45.106Z"
   },
   {
    "duration": 5539,
    "start_time": "2023-08-26T06:48:49.654Z"
   },
   {
    "duration": 4,
    "start_time": "2023-08-26T06:48:58.350Z"
   },
   {
    "duration": 50588,
    "start_time": "2023-08-26T06:49:07.799Z"
   },
   {
    "duration": 4,
    "start_time": "2023-08-26T06:50:02.103Z"
   },
   {
    "duration": 49202,
    "start_time": "2023-08-26T06:50:09.694Z"
   },
   {
    "duration": 4,
    "start_time": "2023-08-26T06:51:35.458Z"
   },
   {
    "duration": 67584,
    "start_time": "2023-08-26T06:52:43.318Z"
   },
   {
    "duration": 4,
    "start_time": "2023-08-26T06:53:54.907Z"
   },
   {
    "duration": 72042,
    "start_time": "2023-08-26T06:53:59.946Z"
   },
   {
    "duration": 4,
    "start_time": "2023-08-26T06:56:11.185Z"
   },
   {
    "duration": 54639,
    "start_time": "2023-08-26T06:56:33.156Z"
   },
   {
    "duration": 3,
    "start_time": "2023-08-26T06:57:35.007Z"
   },
   {
    "duration": 27297,
    "start_time": "2023-08-26T06:57:40.495Z"
   },
   {
    "duration": 4,
    "start_time": "2023-08-26T06:58:51.770Z"
   },
   {
    "duration": 53059,
    "start_time": "2023-08-26T06:58:55.627Z"
   },
   {
    "duration": 3,
    "start_time": "2023-08-26T06:59:52.671Z"
   },
   {
    "duration": 53059,
    "start_time": "2023-08-26T07:00:03.327Z"
   },
   {
    "duration": 5,
    "start_time": "2023-08-26T07:01:28.255Z"
   },
   {
    "duration": 21,
    "start_time": "2023-08-26T07:03:32.194Z"
   },
   {
    "duration": 141,
    "start_time": "2023-08-26T07:03:52.618Z"
   },
   {
    "duration": 26,
    "start_time": "2023-08-26T07:03:55.771Z"
   },
   {
    "duration": 12102,
    "start_time": "2023-08-26T07:06:47.023Z"
   },
   {
    "duration": 49736,
    "start_time": "2023-08-26T07:07:03.061Z"
   },
   {
    "duration": 18,
    "start_time": "2023-08-26T07:08:14.112Z"
   },
   {
    "duration": 19,
    "start_time": "2023-08-26T07:08:22.146Z"
   },
   {
    "duration": 36,
    "start_time": "2023-08-26T07:08:56.828Z"
   },
   {
    "duration": 5,
    "start_time": "2023-08-26T07:09:42.926Z"
   },
   {
    "duration": 4,
    "start_time": "2023-08-26T07:09:49.244Z"
   },
   {
    "duration": 4,
    "start_time": "2023-08-26T07:09:57.027Z"
   },
   {
    "duration": 5,
    "start_time": "2023-08-26T07:10:08.129Z"
   },
   {
    "duration": 18,
    "start_time": "2023-08-26T07:10:18.042Z"
   },
   {
    "duration": 6859,
    "start_time": "2023-08-26T10:04:03.525Z"
   },
   {
    "duration": 3526,
    "start_time": "2023-08-26T10:04:13.113Z"
   },
   {
    "duration": 12,
    "start_time": "2023-08-26T10:04:31.510Z"
   },
   {
    "duration": 33,
    "start_time": "2023-08-26T10:04:32.022Z"
   },
   {
    "duration": 255,
    "start_time": "2023-08-26T10:04:32.447Z"
   },
   {
    "duration": 28,
    "start_time": "2023-08-26T10:04:32.926Z"
   },
   {
    "duration": 4,
    "start_time": "2023-08-26T10:04:35.072Z"
   },
   {
    "duration": 3,
    "start_time": "2023-08-26T10:04:36.496Z"
   },
   {
    "duration": 724,
    "start_time": "2023-08-26T10:04:37.256Z"
   },
   {
    "duration": 3,
    "start_time": "2023-08-26T10:04:38.440Z"
   },
   {
    "duration": 57,
    "start_time": "2023-08-26T10:04:39.088Z"
   },
   {
    "duration": 1059382,
    "start_time": "2023-08-26T10:04:42.682Z"
   },
   {
    "duration": 12,
    "start_time": "2023-08-26T10:26:16.095Z"
   },
   {
    "duration": 8,
    "start_time": "2023-08-26T10:26:17.063Z"
   },
   {
    "duration": 6586,
    "start_time": "2023-08-26T10:26:31.016Z"
   },
   {
    "duration": 80,
    "start_time": "2023-08-26T10:30:45.526Z"
   },
   {
    "duration": 4,
    "start_time": "2023-08-26T10:31:02.252Z"
   },
   {
    "duration": 320,
    "start_time": "2023-08-26T10:31:10.373Z"
   },
   {
    "duration": 4,
    "start_time": "2023-08-26T10:31:16.750Z"
   },
   {
    "duration": 5,
    "start_time": "2023-08-26T10:31:21.671Z"
   },
   {
    "duration": 2,
    "start_time": "2023-08-26T10:31:52.075Z"
   },
   {
    "duration": 85,
    "start_time": "2023-08-26T10:33:10.013Z"
   },
   {
    "duration": 4,
    "start_time": "2023-08-26T10:33:14.502Z"
   },
   {
    "duration": 5,
    "start_time": "2023-08-26T10:33:19.332Z"
   },
   {
    "duration": 4,
    "start_time": "2023-08-26T10:33:22.450Z"
   },
   {
    "duration": 45594,
    "start_time": "2023-08-26T10:33:55.670Z"
   },
   {
    "duration": 5,
    "start_time": "2023-08-26T10:34:58.818Z"
   },
   {
    "duration": 56151,
    "start_time": "2023-08-26T10:35:41.510Z"
   },
   {
    "duration": 57954,
    "start_time": "2023-08-26T10:36:46.620Z"
   },
   {
    "duration": 60360,
    "start_time": "2023-08-26T10:38:08.004Z"
   },
   {
    "duration": 60018,
    "start_time": "2023-08-26T10:39:30.950Z"
   },
   {
    "duration": 60737,
    "start_time": "2023-08-26T11:40:34.830Z"
   },
   {
    "duration": 375654,
    "start_time": "2023-08-26T11:42:43.211Z"
   },
   {
    "duration": 346686,
    "start_time": "2023-08-26T11:49:15.285Z"
   },
   {
    "duration": 246847,
    "start_time": "2023-08-26T11:55:18.714Z"
   },
   {
    "duration": 64659,
    "start_time": "2023-08-26T11:59:44.402Z"
   },
   {
    "duration": 63679,
    "start_time": "2023-08-26T12:00:54.984Z"
   },
   {
    "duration": 64171,
    "start_time": "2023-08-26T12:02:02.999Z"
   },
   {
    "duration": 65931,
    "start_time": "2023-08-26T12:03:11.826Z"
   },
   {
    "duration": 65508,
    "start_time": "2023-08-26T12:04:23.350Z"
   },
   {
    "duration": 113118,
    "start_time": "2023-08-26T12:05:32.941Z"
   },
   {
    "duration": 121103,
    "start_time": "2023-08-26T12:08:12.871Z"
   },
   {
    "duration": 48372,
    "start_time": "2023-08-26T12:10:18.192Z"
   },
   {
    "duration": 101260,
    "start_time": "2023-08-26T12:11:11.108Z"
   },
   {
    "duration": 113129,
    "start_time": "2023-08-26T12:12:56.828Z"
   },
   {
    "duration": 384084,
    "start_time": "2023-08-26T12:17:39.506Z"
   },
   {
    "duration": 110,
    "start_time": "2023-08-26T12:24:36.648Z"
   },
   {
    "duration": 29,
    "start_time": "2023-08-26T12:28:52.768Z"
   },
   {
    "duration": 257045,
    "start_time": "2023-08-26T12:29:43.827Z"
   },
   {
    "duration": 4419,
    "start_time": "2023-08-26T12:34:29.132Z"
   },
   {
    "duration": 254923,
    "start_time": "2023-08-26T12:35:07.036Z"
   },
   {
    "duration": 101,
    "start_time": "2023-08-26T12:40:10.992Z"
   },
   {
    "duration": 129400,
    "start_time": "2023-08-26T12:40:19.092Z"
   },
   {
    "duration": 59,
    "start_time": "2023-08-26T21:38:24.243Z"
   },
   {
    "duration": 4581,
    "start_time": "2023-08-26T21:38:37.609Z"
   },
   {
    "duration": 3551,
    "start_time": "2023-08-26T21:38:42.192Z"
   },
   {
    "duration": 21,
    "start_time": "2023-08-26T21:38:45.747Z"
   },
   {
    "duration": 34,
    "start_time": "2023-08-26T21:38:45.774Z"
   },
   {
    "duration": 249,
    "start_time": "2023-08-26T21:38:45.809Z"
   },
   {
    "duration": 34,
    "start_time": "2023-08-26T21:38:46.061Z"
   },
   {
    "duration": 5,
    "start_time": "2023-08-26T21:38:46.096Z"
   },
   {
    "duration": 6,
    "start_time": "2023-08-26T21:38:46.102Z"
   },
   {
    "duration": 559,
    "start_time": "2023-08-26T21:38:46.110Z"
   },
   {
    "duration": 5,
    "start_time": "2023-08-26T21:38:46.675Z"
   },
   {
    "duration": 14,
    "start_time": "2023-08-26T21:38:46.681Z"
   },
   {
    "duration": 900369,
    "start_time": "2023-08-26T21:38:46.696Z"
   },
   {
    "duration": 12,
    "start_time": "2023-08-26T21:53:47.070Z"
   },
   {
    "duration": 8,
    "start_time": "2023-08-26T21:53:47.083Z"
   },
   {
    "duration": 6987,
    "start_time": "2023-08-26T21:53:47.092Z"
   },
   {
    "duration": 72,
    "start_time": "2023-08-26T21:53:54.080Z"
   },
   {
    "duration": 275913,
    "start_time": "2023-08-26T21:53:54.153Z"
   },
   {
    "duration": 127100,
    "start_time": "2023-08-26T21:58:30.073Z"
   },
   {
    "duration": 25,
    "start_time": "2023-08-26T22:02:19.222Z"
   },
   {
    "duration": 78377,
    "start_time": "2023-08-26T22:04:32.191Z"
   },
   {
    "duration": 0,
    "start_time": "2023-08-26T22:08:57.583Z"
   },
   {
    "duration": 18,
    "start_time": "2023-08-26T22:09:00.400Z"
   },
   {
    "duration": 9,
    "start_time": "2023-08-26T22:09:03.881Z"
   },
   {
    "duration": 78627,
    "start_time": "2023-08-26T22:09:06.624Z"
   },
   {
    "duration": 75,
    "start_time": "2023-08-26T22:13:39.649Z"
   },
   {
    "duration": 36679,
    "start_time": "2023-08-26T22:13:44.880Z"
   },
   {
    "duration": 1320698,
    "start_time": "2023-08-26T22:14:23.321Z"
   },
   {
    "duration": 3406302,
    "start_time": "2023-08-26T22:37:47.897Z"
   },
   {
    "duration": 137,
    "start_time": "2023-08-26T23:54:50.404Z"
   },
   {
    "duration": 6,
    "start_time": "2023-08-26T23:54:55.785Z"
   },
   {
    "duration": 266,
    "start_time": "2023-08-26T23:55:05.160Z"
   },
   {
    "duration": 7,
    "start_time": "2023-08-26T23:55:24.278Z"
   },
   {
    "duration": 2,
    "start_time": "2023-08-26T23:55:36.920Z"
   },
   {
    "duration": 5,
    "start_time": "2023-08-26T23:55:38.377Z"
   },
   {
    "duration": 43,
    "start_time": "2023-08-26T23:55:41.385Z"
   },
   {
    "duration": 7,
    "start_time": "2023-08-26T23:55:48.179Z"
   },
   {
    "duration": 5,
    "start_time": "2023-08-26T23:55:52.071Z"
   },
   {
    "duration": 3,
    "start_time": "2023-08-26T23:55:54.951Z"
   },
   {
    "duration": 4,
    "start_time": "2023-08-26T23:55:55.431Z"
   },
   {
    "duration": 3,
    "start_time": "2023-08-26T23:56:26.639Z"
   },
   {
    "duration": 4,
    "start_time": "2023-08-26T23:56:26.799Z"
   },
   {
    "duration": 10695,
    "start_time": "2023-08-26T23:56:51.320Z"
   },
   {
    "duration": 6,
    "start_time": "2023-08-26T23:57:11.648Z"
   },
   {
    "duration": 4,
    "start_time": "2023-08-26T23:57:16.002Z"
   },
   {
    "duration": 3,
    "start_time": "2023-08-26T23:57:58.432Z"
   },
   {
    "duration": 4,
    "start_time": "2023-08-26T23:57:59.327Z"
   },
   {
    "duration": 42,
    "start_time": "2023-08-26T23:58:03.496Z"
   },
   {
    "duration": 19,
    "start_time": "2023-08-26T23:59:33.184Z"
   },
   {
    "duration": 3,
    "start_time": "2023-08-27T00:00:05.321Z"
   },
   {
    "duration": 3,
    "start_time": "2023-08-27T00:00:07.824Z"
   },
   {
    "duration": 3,
    "start_time": "2023-08-27T00:00:26.120Z"
   },
   {
    "duration": 3,
    "start_time": "2023-08-27T00:00:29.207Z"
   },
   {
    "duration": 3,
    "start_time": "2023-08-27T00:00:49.481Z"
   },
   {
    "duration": 4,
    "start_time": "2023-08-27T00:00:49.712Z"
   },
   {
    "duration": 4,
    "start_time": "2023-08-27T00:00:57.409Z"
   },
   {
    "duration": 9,
    "start_time": "2023-08-27T00:01:04.770Z"
   },
   {
    "duration": 6,
    "start_time": "2023-08-27T00:01:13.607Z"
   },
   {
    "duration": 4,
    "start_time": "2023-08-27T00:01:47.840Z"
   },
   {
    "duration": 27,
    "start_time": "2023-08-27T00:02:56.569Z"
   },
   {
    "duration": 12,
    "start_time": "2023-08-27T00:03:01.981Z"
   },
   {
    "duration": 23,
    "start_time": "2023-08-27T00:03:17.466Z"
   },
   {
    "duration": 5,
    "start_time": "2023-08-27T00:03:51.698Z"
   },
   {
    "duration": 7,
    "start_time": "2023-08-27T00:04:06.040Z"
   },
   {
    "duration": 13,
    "start_time": "2023-08-27T00:04:18.089Z"
   },
   {
    "duration": 1404,
    "start_time": "2023-08-27T00:04:19.800Z"
   },
   {
    "duration": 2,
    "start_time": "2023-08-27T00:04:27.945Z"
   },
   {
    "duration": 7915,
    "start_time": "2023-08-27T00:04:35.573Z"
   },
   {
    "duration": 10053,
    "start_time": "2023-08-27T00:05:24.336Z"
   },
   {
    "duration": 4,
    "start_time": "2023-08-27T00:06:09.208Z"
   },
   {
    "duration": 5,
    "start_time": "2023-08-27T00:06:30.912Z"
   },
   {
    "duration": 5,
    "start_time": "2023-08-27T00:06:36.248Z"
   },
   {
    "duration": 12,
    "start_time": "2023-08-27T00:07:47.192Z"
   },
   {
    "duration": 6,
    "start_time": "2023-08-27T00:07:54.920Z"
   },
   {
    "duration": 40,
    "start_time": "2023-08-27T00:08:04.304Z"
   },
   {
    "duration": 8,
    "start_time": "2023-08-27T00:08:26.172Z"
   },
   {
    "duration": 5,
    "start_time": "2023-08-27T00:08:34.311Z"
   },
   {
    "duration": 4,
    "start_time": "2023-08-27T00:08:59.632Z"
   },
   {
    "duration": 5,
    "start_time": "2023-08-27T00:09:11.104Z"
   },
   {
    "duration": 19,
    "start_time": "2023-08-27T00:09:13.024Z"
   },
   {
    "duration": 26,
    "start_time": "2023-08-27T00:09:19.682Z"
   },
   {
    "duration": 6,
    "start_time": "2023-08-27T00:09:25.311Z"
   },
   {
    "duration": 6,
    "start_time": "2023-08-27T00:10:52.008Z"
   },
   {
    "duration": 9,
    "start_time": "2023-08-27T00:10:56.248Z"
   },
   {
    "duration": 4,
    "start_time": "2023-08-27T00:11:31.696Z"
   },
   {
    "duration": 13,
    "start_time": "2023-08-27T00:17:23.448Z"
   },
   {
    "duration": 104,
    "start_time": "2023-08-27T00:17:32.383Z"
   },
   {
    "duration": 4,
    "start_time": "2023-08-27T00:17:36.543Z"
   },
   {
    "duration": 50392,
    "start_time": "2023-08-27T00:18:07.145Z"
   },
   {
    "duration": 21,
    "start_time": "2023-08-27T00:19:29.184Z"
   },
   {
    "duration": 5821,
    "start_time": "2023-08-27T00:19:50.344Z"
   },
   {
    "duration": 5,
    "start_time": "2023-08-27T00:23:02.274Z"
   },
   {
    "duration": 5,
    "start_time": "2023-08-27T00:23:28.203Z"
   },
   {
    "duration": 12,
    "start_time": "2023-08-27T00:23:36.479Z"
   },
   {
    "duration": 33,
    "start_time": "2023-08-27T00:23:41.947Z"
   },
   {
    "duration": 6,
    "start_time": "2023-08-27T00:24:20.714Z"
   },
   {
    "duration": 19,
    "start_time": "2023-08-27T00:24:23.081Z"
   },
   {
    "duration": 4,
    "start_time": "2023-08-27T00:24:39.975Z"
   },
   {
    "duration": 4,
    "start_time": "2023-08-27T00:24:44.433Z"
   },
   {
    "duration": 49242,
    "start_time": "2023-08-27T00:26:15.881Z"
   },
   {
    "duration": 5273,
    "start_time": "2023-08-27T00:27:12.172Z"
   },
   {
    "duration": 5,
    "start_time": "2023-08-27T00:27:25.518Z"
   },
   {
    "duration": 5,
    "start_time": "2023-08-27T00:27:29.078Z"
   },
   {
    "duration": 5,
    "start_time": "2023-08-27T00:27:36.101Z"
   },
   {
    "duration": 21,
    "start_time": "2023-08-27T00:27:52.777Z"
   },
   {
    "duration": 5,
    "start_time": "2023-08-27T00:28:02.814Z"
   },
   {
    "duration": 23,
    "start_time": "2023-08-27T00:40:07.294Z"
   },
   {
    "duration": 12,
    "start_time": "2023-08-27T00:40:44.471Z"
   },
   {
    "duration": 46,
    "start_time": "2023-08-27T00:40:53.646Z"
   },
   {
    "duration": 2861,
    "start_time": "2023-08-27T00:41:15.072Z"
   },
   {
    "duration": 3,
    "start_time": "2023-08-27T00:41:37.141Z"
   },
   {
    "duration": 8,
    "start_time": "2023-08-27T00:41:40.381Z"
   },
   {
    "duration": 20,
    "start_time": "2023-08-27T00:41:47.379Z"
   },
   {
    "duration": 6,
    "start_time": "2023-08-27T00:41:54.118Z"
   },
   {
    "duration": 206,
    "start_time": "2023-08-27T00:41:57.272Z"
   },
   {
    "duration": 4,
    "start_time": "2023-08-27T00:42:32.349Z"
   },
   {
    "duration": 98,
    "start_time": "2023-08-27T00:42:35.678Z"
   },
   {
    "duration": 4,
    "start_time": "2023-08-27T00:42:38.333Z"
   },
   {
    "duration": 10,
    "start_time": "2023-08-27T00:42:53.230Z"
   },
   {
    "duration": 14,
    "start_time": "2023-08-27T00:42:53.797Z"
   },
   {
    "duration": 2960,
    "start_time": "2023-08-27T00:42:55.901Z"
   },
   {
    "duration": 3,
    "start_time": "2023-08-27T00:43:17.605Z"
   },
   {
    "duration": 491,
    "start_time": "2023-08-27T00:43:18.525Z"
   },
   {
    "duration": 12,
    "start_time": "2023-08-27T00:43:22.742Z"
   },
   {
    "duration": 3,
    "start_time": "2023-08-27T00:43:22.924Z"
   },
   {
    "duration": 3092,
    "start_time": "2023-08-27T00:43:23.213Z"
   },
   {
    "duration": 17,
    "start_time": "2023-08-27T00:43:29.854Z"
   },
   {
    "duration": 3,
    "start_time": "2023-08-27T00:43:33.437Z"
   },
   {
    "duration": 2298,
    "start_time": "2023-08-27T00:43:34.177Z"
   },
   {
    "duration": 13,
    "start_time": "2023-08-27T00:43:38.479Z"
   },
   {
    "duration": 3,
    "start_time": "2023-08-27T00:43:41.076Z"
   },
   {
    "duration": 1904,
    "start_time": "2023-08-27T00:43:41.494Z"
   },
   {
    "duration": 14,
    "start_time": "2023-08-27T00:43:46.933Z"
   },
   {
    "duration": 3,
    "start_time": "2023-08-27T00:43:47.109Z"
   },
   {
    "duration": 1328,
    "start_time": "2023-08-27T00:43:48.377Z"
   },
   {
    "duration": 20,
    "start_time": "2023-08-27T00:43:54.950Z"
   },
   {
    "duration": 7,
    "start_time": "2023-08-27T00:43:55.148Z"
   },
   {
    "duration": 1491,
    "start_time": "2023-08-27T00:43:56.092Z"
   },
   {
    "duration": 20,
    "start_time": "2023-08-27T00:44:04.101Z"
   },
   {
    "duration": 5,
    "start_time": "2023-08-27T00:44:04.370Z"
   },
   {
    "duration": 885,
    "start_time": "2023-08-27T00:44:04.612Z"
   },
   {
    "duration": 13,
    "start_time": "2023-08-27T00:44:10.789Z"
   },
   {
    "duration": 3,
    "start_time": "2023-08-27T00:44:10.996Z"
   },
   {
    "duration": 240,
    "start_time": "2023-08-27T00:44:11.267Z"
   },
   {
    "duration": 4,
    "start_time": "2023-08-27T00:44:17.581Z"
   },
   {
    "duration": 17,
    "start_time": "2023-08-27T00:44:17.977Z"
   },
   {
    "duration": 14,
    "start_time": "2023-08-27T00:44:19.909Z"
   },
   {
    "duration": 2,
    "start_time": "2023-08-27T00:44:20.124Z"
   },
   {
    "duration": 968,
    "start_time": "2023-08-27T00:44:20.428Z"
   },
   {
    "duration": 16,
    "start_time": "2023-08-27T00:44:25.044Z"
   },
   {
    "duration": 3,
    "start_time": "2023-08-27T00:44:25.213Z"
   },
   {
    "duration": 748,
    "start_time": "2023-08-27T00:44:25.501Z"
   },
   {
    "duration": 18,
    "start_time": "2023-08-27T00:44:29.360Z"
   },
   {
    "duration": 4,
    "start_time": "2023-08-27T00:44:29.569Z"
   },
   {
    "duration": 47,
    "start_time": "2023-08-27T00:44:29.775Z"
   },
   {
    "duration": 15,
    "start_time": "2023-08-27T00:44:34.581Z"
   },
   {
    "duration": 6,
    "start_time": "2023-08-27T00:44:34.748Z"
   },
   {
    "duration": 60,
    "start_time": "2023-08-27T00:44:34.997Z"
   },
   {
    "duration": 16,
    "start_time": "2023-08-27T00:44:41.084Z"
   },
   {
    "duration": 4,
    "start_time": "2023-08-27T00:44:41.284Z"
   },
   {
    "duration": 44,
    "start_time": "2023-08-27T00:44:41.484Z"
   },
   {
    "duration": 16,
    "start_time": "2023-08-27T00:44:46.604Z"
   },
   {
    "duration": 3,
    "start_time": "2023-08-27T00:44:46.812Z"
   },
   {
    "duration": 131,
    "start_time": "2023-08-27T00:44:47.054Z"
   },
   {
    "duration": 15,
    "start_time": "2023-08-27T00:44:49.732Z"
   },
   {
    "duration": 3,
    "start_time": "2023-08-27T00:44:49.932Z"
   },
   {
    "duration": 141,
    "start_time": "2023-08-27T00:44:50.204Z"
   },
   {
    "duration": 17,
    "start_time": "2023-08-27T00:44:52.580Z"
   },
   {
    "duration": 3,
    "start_time": "2023-08-27T00:44:52.777Z"
   },
   {
    "duration": 797,
    "start_time": "2023-08-27T00:44:53.309Z"
   },
   {
    "duration": 12,
    "start_time": "2023-08-27T00:44:56.709Z"
   },
   {
    "duration": 2,
    "start_time": "2023-08-27T00:44:56.933Z"
   },
   {
    "duration": 843,
    "start_time": "2023-08-27T00:44:57.220Z"
   },
   {
    "duration": 16,
    "start_time": "2023-08-27T00:45:02.973Z"
   },
   {
    "duration": 6,
    "start_time": "2023-08-27T00:45:03.271Z"
   },
   {
    "duration": 21,
    "start_time": "2023-08-27T00:45:03.508Z"
   },
   {
    "duration": 17,
    "start_time": "2023-08-27T00:45:09.092Z"
   },
   {
    "duration": 3,
    "start_time": "2023-08-27T00:45:09.292Z"
   },
   {
    "duration": 732,
    "start_time": "2023-08-27T00:45:09.572Z"
   },
   {
    "duration": 12,
    "start_time": "2023-08-27T00:45:14.828Z"
   },
   {
    "duration": 2,
    "start_time": "2023-08-27T00:45:15.044Z"
   },
   {
    "duration": 737,
    "start_time": "2023-08-27T00:45:15.324Z"
   },
   {
    "duration": 14,
    "start_time": "2023-08-27T00:45:20.376Z"
   },
   {
    "duration": 6,
    "start_time": "2023-08-27T00:45:20.548Z"
   },
   {
    "duration": 22,
    "start_time": "2023-08-27T00:45:20.836Z"
   },
   {
    "duration": 16,
    "start_time": "2023-08-27T00:45:29.273Z"
   },
   {
    "duration": 4,
    "start_time": "2023-08-27T00:45:29.464Z"
   },
   {
    "duration": 928,
    "start_time": "2023-08-27T00:45:29.691Z"
   },
   {
    "duration": 13,
    "start_time": "2023-08-27T00:45:33.324Z"
   },
   {
    "duration": 3,
    "start_time": "2023-08-27T00:45:33.532Z"
   },
   {
    "duration": 727,
    "start_time": "2023-08-27T00:45:33.778Z"
   },
   {
    "duration": 12,
    "start_time": "2023-08-27T00:45:37.820Z"
   },
   {
    "duration": 3,
    "start_time": "2023-08-27T00:45:38.020Z"
   },
   {
    "duration": 725,
    "start_time": "2023-08-27T00:45:38.292Z"
   },
   {
    "duration": 14,
    "start_time": "2023-08-27T00:45:41.773Z"
   },
   {
    "duration": 6,
    "start_time": "2023-08-27T00:45:41.972Z"
   },
   {
    "duration": 875,
    "start_time": "2023-08-27T00:45:42.225Z"
   },
   {
    "duration": 13,
    "start_time": "2023-08-27T00:45:46.884Z"
   },
   {
    "duration": 2,
    "start_time": "2023-08-27T00:45:47.078Z"
   },
   {
    "duration": 689,
    "start_time": "2023-08-27T00:45:47.236Z"
   },
   {
    "duration": 2,
    "start_time": "2023-08-27T00:46:12.492Z"
   },
   {
    "duration": 13,
    "start_time": "2023-08-27T00:46:12.819Z"
   },
   {
    "duration": 3,
    "start_time": "2023-08-27T00:46:13.181Z"
   },
   {
    "duration": 684,
    "start_time": "2023-08-27T00:46:13.732Z"
   },
   {
    "duration": 3,
    "start_time": "2023-08-27T00:46:40.420Z"
   },
   {
    "duration": 14,
    "start_time": "2023-08-27T00:46:40.991Z"
   },
   {
    "duration": 5,
    "start_time": "2023-08-27T00:46:41.172Z"
   },
   {
    "duration": 464,
    "start_time": "2023-08-27T00:46:41.570Z"
   },
   {
    "duration": 3,
    "start_time": "2023-08-27T00:46:57.204Z"
   },
   {
    "duration": 12,
    "start_time": "2023-08-27T00:46:57.428Z"
   },
   {
    "duration": 3,
    "start_time": "2023-08-27T00:46:57.628Z"
   },
   {
    "duration": 469,
    "start_time": "2023-08-27T00:46:57.977Z"
   },
   {
    "duration": 4,
    "start_time": "2023-08-27T00:47:05.819Z"
   },
   {
    "duration": 23,
    "start_time": "2023-08-27T00:47:06.042Z"
   },
   {
    "duration": 3,
    "start_time": "2023-08-27T00:47:06.323Z"
   },
   {
    "duration": 501,
    "start_time": "2023-08-27T00:47:06.644Z"
   },
   {
    "duration": 52,
    "start_time": "2023-08-27T00:52:51.355Z"
   },
   {
    "duration": 17879,
    "start_time": "2023-08-27T00:52:56.472Z"
   },
   {
    "duration": 15306,
    "start_time": "2023-08-27T00:53:14.355Z"
   },
   {
    "duration": 89,
    "start_time": "2023-08-27T00:53:29.671Z"
   },
   {
    "duration": 214,
    "start_time": "2023-08-27T00:53:29.767Z"
   },
   {
    "duration": 1109,
    "start_time": "2023-08-27T00:53:30.060Z"
   },
   {
    "duration": 96,
    "start_time": "2023-08-27T00:53:31.171Z"
   },
   {
    "duration": 7,
    "start_time": "2023-08-27T00:53:31.272Z"
   },
   {
    "duration": 88,
    "start_time": "2023-08-27T00:53:31.283Z"
   },
   {
    "duration": 3708,
    "start_time": "2023-08-27T00:53:31.372Z"
   },
   {
    "duration": 4,
    "start_time": "2023-08-27T00:53:35.152Z"
   },
   {
    "duration": 101,
    "start_time": "2023-08-27T00:53:35.160Z"
   },
   {
    "duration": 1196798,
    "start_time": "2023-08-27T00:53:35.265Z"
   },
   {
    "duration": 11,
    "start_time": "2023-08-27T01:13:32.064Z"
   },
   {
    "duration": 6845,
    "start_time": "2023-08-27T01:13:32.076Z"
   },
   {
    "duration": 79,
    "start_time": "2023-08-27T01:13:38.923Z"
   },
   {
    "duration": 105,
    "start_time": "2023-08-27T01:13:59.834Z"
   },
   {
    "duration": 46302,
    "start_time": "2023-08-27T01:17:03.281Z"
   },
   {
    "duration": 5284,
    "start_time": "2023-08-27T01:17:51.209Z"
   },
   {
    "duration": 340,
    "start_time": "2023-08-27T01:17:58.849Z"
   },
   {
    "duration": 15,
    "start_time": "2023-08-27T01:18:10.121Z"
   },
   {
    "duration": 16,
    "start_time": "2023-08-27T01:20:56.675Z"
   },
   {
    "duration": 28,
    "start_time": "2023-08-27T01:24:33.833Z"
   },
   {
    "duration": 10,
    "start_time": "2023-08-27T01:24:42.145Z"
   },
   {
    "duration": 43,
    "start_time": "2023-08-27T01:25:15.936Z"
   },
   {
    "duration": 3,
    "start_time": "2023-08-27T01:25:22.625Z"
   },
   {
    "duration": 16,
    "start_time": "2023-08-27T01:25:37.985Z"
   },
   {
    "duration": 183,
    "start_time": "2023-08-27T01:25:45.261Z"
   },
   {
    "duration": 4,
    "start_time": "2023-08-27T01:25:50.937Z"
   },
   {
    "duration": 4,
    "start_time": "2023-08-27T01:25:56.681Z"
   },
   {
    "duration": 3,
    "start_time": "2023-08-27T01:26:00.089Z"
   },
   {
    "duration": 4,
    "start_time": "2023-08-27T01:26:00.408Z"
   },
   {
    "duration": 3,
    "start_time": "2023-08-27T01:26:02.793Z"
   },
   {
    "duration": 6,
    "start_time": "2023-08-27T01:26:02.985Z"
   },
   {
    "duration": 4,
    "start_time": "2023-08-27T01:28:12.497Z"
   },
   {
    "duration": 18,
    "start_time": "2023-08-27T01:28:23.466Z"
   },
   {
    "duration": 23,
    "start_time": "2023-08-27T01:28:30.461Z"
   },
   {
    "duration": 19,
    "start_time": "2023-08-27T01:28:36.312Z"
   },
   {
    "duration": 17,
    "start_time": "2023-08-27T01:30:49.878Z"
   },
   {
    "duration": 18,
    "start_time": "2023-08-27T01:35:31.177Z"
   },
   {
    "duration": 6,
    "start_time": "2023-08-27T01:35:42.304Z"
   },
   {
    "duration": 15,
    "start_time": "2023-08-27T01:35:52.827Z"
   },
   {
    "duration": 2,
    "start_time": "2023-08-27T01:36:02.384Z"
   },
   {
    "duration": 3,
    "start_time": "2023-08-27T01:36:05.719Z"
   },
   {
    "duration": 94,
    "start_time": "2023-08-27T01:36:23.880Z"
   },
   {
    "duration": 64,
    "start_time": "2023-08-27T01:36:33.272Z"
   },
   {
    "duration": 3,
    "start_time": "2023-08-27T01:36:40.268Z"
   },
   {
    "duration": 10,
    "start_time": "2023-08-27T01:36:40.554Z"
   },
   {
    "duration": 51,
    "start_time": "2023-08-27T01:36:47.743Z"
   },
   {
    "duration": 58,
    "start_time": "2023-08-27T01:43:30.626Z"
   },
   {
    "duration": 2,
    "start_time": "2023-08-27T01:44:14.314Z"
   },
   {
    "duration": 4,
    "start_time": "2023-08-27T01:44:28.137Z"
   },
   {
    "duration": 6,
    "start_time": "2023-08-27T01:44:34.477Z"
   },
   {
    "duration": 3,
    "start_time": "2023-08-27T01:44:37.433Z"
   },
   {
    "duration": 5,
    "start_time": "2023-08-27T01:44:40.113Z"
   },
   {
    "duration": 8,
    "start_time": "2023-08-27T01:44:40.370Z"
   },
   {
    "duration": 3,
    "start_time": "2023-08-27T01:44:48.877Z"
   },
   {
    "duration": 30,
    "start_time": "2023-08-27T01:44:49.080Z"
   },
   {
    "duration": 3,
    "start_time": "2023-08-27T01:44:58.545Z"
   },
   {
    "duration": 5,
    "start_time": "2023-08-27T01:44:58.929Z"
   },
   {
    "duration": 8,
    "start_time": "2023-08-27T01:45:06.459Z"
   },
   {
    "duration": 6,
    "start_time": "2023-08-27T01:45:09.393Z"
   },
   {
    "duration": 6,
    "start_time": "2023-08-27T01:45:10.945Z"
   },
   {
    "duration": 10,
    "start_time": "2023-08-27T01:45:12.270Z"
   },
   {
    "duration": 50,
    "start_time": "2023-08-27T01:46:03.129Z"
   },
   {
    "duration": 2903,
    "start_time": "2023-08-27T01:46:18.225Z"
   },
   {
    "duration": 17,
    "start_time": "2023-08-27T01:46:47.481Z"
   },
   {
    "duration": 17,
    "start_time": "2023-08-27T01:46:51.976Z"
   },
   {
    "duration": 128,
    "start_time": "2023-08-27T01:46:56.009Z"
   },
   {
    "duration": 3,
    "start_time": "2023-08-27T01:47:13.632Z"
   },
   {
    "duration": 4327,
    "start_time": "2023-08-27T01:48:51.184Z"
   },
   {
    "duration": 2810,
    "start_time": "2023-08-27T01:48:55.512Z"
   },
   {
    "duration": 9,
    "start_time": "2023-08-27T01:48:58.324Z"
   },
   {
    "duration": 46,
    "start_time": "2023-08-27T01:48:58.334Z"
   },
   {
    "duration": 230,
    "start_time": "2023-08-27T01:48:58.382Z"
   },
   {
    "duration": 47,
    "start_time": "2023-08-27T01:48:58.614Z"
   },
   {
    "duration": 11,
    "start_time": "2023-08-27T01:48:58.664Z"
   },
   {
    "duration": 3,
    "start_time": "2023-08-27T01:48:58.680Z"
   },
   {
    "duration": 505,
    "start_time": "2023-08-27T01:48:58.685Z"
   },
   {
    "duration": 2,
    "start_time": "2023-08-27T01:48:59.192Z"
   },
   {
    "duration": 17,
    "start_time": "2023-08-27T01:48:59.196Z"
   },
   {
    "duration": 915586,
    "start_time": "2023-08-27T01:48:59.215Z"
   },
   {
    "duration": 5,
    "start_time": "2023-08-27T02:04:14.802Z"
   },
   {
    "duration": 7089,
    "start_time": "2023-08-27T02:04:14.809Z"
   },
   {
    "duration": 83,
    "start_time": "2023-08-27T02:04:21.900Z"
   },
   {
    "duration": 530975,
    "start_time": "2023-08-27T02:04:21.984Z"
   },
   {
    "duration": 3219678,
    "start_time": "2023-08-27T02:13:12.964Z"
   },
   {
    "duration": 124216,
    "start_time": "2023-08-27T03:06:52.643Z"
   },
   {
    "duration": 122005,
    "start_time": "2023-08-27T03:09:19.459Z"
   },
   {
    "duration": 339,
    "start_time": "2023-08-27T03:19:40.886Z"
   },
   {
    "duration": 19,
    "start_time": "2023-08-27T03:19:49.934Z"
   },
   {
    "duration": 23,
    "start_time": "2023-08-27T03:19:57.341Z"
   },
   {
    "duration": 202,
    "start_time": "2023-08-27T03:20:55.287Z"
   },
   {
    "duration": 20,
    "start_time": "2023-08-27T03:22:00.118Z"
   },
   {
    "duration": 13,
    "start_time": "2023-08-27T03:22:07.903Z"
   },
   {
    "duration": 21,
    "start_time": "2023-08-27T03:22:27.352Z"
   },
   {
    "duration": 28,
    "start_time": "2023-08-27T03:22:34.945Z"
   },
   {
    "duration": 14,
    "start_time": "2023-08-27T03:22:40.223Z"
   },
   {
    "duration": 16,
    "start_time": "2023-08-27T03:22:42.998Z"
   },
   {
    "duration": 25,
    "start_time": "2023-08-27T03:22:46.094Z"
   },
   {
    "duration": 17,
    "start_time": "2023-08-27T03:22:56.086Z"
   },
   {
    "duration": 15,
    "start_time": "2023-08-27T03:22:57.511Z"
   },
   {
    "duration": 23,
    "start_time": "2023-08-27T03:23:08.447Z"
   },
   {
    "duration": 15,
    "start_time": "2023-08-27T03:23:10.831Z"
   },
   {
    "duration": 20,
    "start_time": "2023-08-27T03:23:12.763Z"
   },
   {
    "duration": 14,
    "start_time": "2023-08-27T03:23:22.789Z"
   },
   {
    "duration": 15,
    "start_time": "2023-08-27T03:23:26.192Z"
   },
   {
    "duration": 20,
    "start_time": "2023-08-27T03:23:29.743Z"
   },
   {
    "duration": 20,
    "start_time": "2023-08-27T03:23:33.368Z"
   },
   {
    "duration": 4618,
    "start_time": "2023-08-27T03:24:29.772Z"
   },
   {
    "duration": 891,
    "start_time": "2023-08-27T03:24:34.392Z"
   },
   {
    "duration": 10,
    "start_time": "2023-08-27T03:24:35.284Z"
   },
   {
    "duration": 47,
    "start_time": "2023-08-27T03:24:35.295Z"
   },
   {
    "duration": 253,
    "start_time": "2023-08-27T03:24:35.344Z"
   },
   {
    "duration": 25,
    "start_time": "2023-08-27T03:24:35.599Z"
   },
   {
    "duration": 44,
    "start_time": "2023-08-27T03:24:35.625Z"
   },
   {
    "duration": 15,
    "start_time": "2023-08-27T03:24:35.670Z"
   },
   {
    "duration": 607,
    "start_time": "2023-08-27T03:24:35.686Z"
   },
   {
    "duration": 5,
    "start_time": "2023-08-27T03:24:36.295Z"
   },
   {
    "duration": 16,
    "start_time": "2023-08-27T03:24:36.301Z"
   },
   {
    "duration": 906318,
    "start_time": "2023-08-27T03:24:36.318Z"
   },
   {
    "duration": 4,
    "start_time": "2023-08-27T03:39:42.638Z"
   },
   {
    "duration": 7689,
    "start_time": "2023-08-27T03:39:42.653Z"
   },
   {
    "duration": 84,
    "start_time": "2023-08-27T03:39:50.357Z"
   },
   {
    "duration": 533835,
    "start_time": "2023-08-27T03:39:50.446Z"
   },
   {
    "duration": 3494732,
    "start_time": "2023-08-27T03:48:44.282Z"
   },
   {
    "duration": 137853,
    "start_time": "2023-08-27T04:46:59.015Z"
   },
   {
    "duration": 31,
    "start_time": "2023-08-27T04:49:16.873Z"
   },
   {
    "duration": 4767,
    "start_time": "2023-08-28T13:13:00.187Z"
   },
   {
    "duration": 2452,
    "start_time": "2023-08-28T13:13:04.956Z"
   },
   {
    "duration": 11,
    "start_time": "2023-08-28T13:13:07.410Z"
   },
   {
    "duration": 31,
    "start_time": "2023-08-28T13:13:07.423Z"
   },
   {
    "duration": 245,
    "start_time": "2023-08-28T13:13:07.456Z"
   },
   {
    "duration": 32,
    "start_time": "2023-08-28T13:13:07.702Z"
   },
   {
    "duration": 5,
    "start_time": "2023-08-28T13:13:07.737Z"
   },
   {
    "duration": 6,
    "start_time": "2023-08-28T13:14:01.585Z"
   },
   {
    "duration": 2,
    "start_time": "2023-08-28T13:15:03.099Z"
   },
   {
    "duration": 552,
    "start_time": "2023-08-28T13:15:03.977Z"
   },
   {
    "duration": 4,
    "start_time": "2023-08-28T13:15:04.720Z"
   },
   {
    "duration": 21,
    "start_time": "2023-08-28T13:15:05.473Z"
   },
   {
    "duration": 1027520,
    "start_time": "2023-08-28T13:15:06.972Z"
   },
   {
    "duration": 6,
    "start_time": "2023-08-28T13:37:24.667Z"
   },
   {
    "duration": 6514,
    "start_time": "2023-08-28T13:37:28.907Z"
   },
   {
    "duration": 38,
    "start_time": "2023-08-28T13:42:36.644Z"
   },
   {
    "duration": 7128,
    "start_time": "2023-08-28T13:44:23.292Z"
   },
   {
    "duration": 27,
    "start_time": "2023-08-28T13:44:45.643Z"
   },
   {
    "duration": 24,
    "start_time": "2023-08-28T13:44:59.171Z"
   },
   {
    "duration": 5,
    "start_time": "2023-08-28T13:45:03.990Z"
   },
   {
    "duration": 98391,
    "start_time": "2023-08-28T13:45:23.129Z"
   },
   {
    "duration": 3304,
    "start_time": "2023-08-28T13:47:36.954Z"
   },
   {
    "duration": 9,
    "start_time": "2023-08-28T13:48:32.386Z"
   },
   {
    "duration": 22,
    "start_time": "2023-08-28T13:50:21.137Z"
   },
   {
    "duration": 12,
    "start_time": "2023-08-28T13:50:43.154Z"
   },
   {
    "duration": 29,
    "start_time": "2023-08-28T13:50:47.802Z"
   },
   {
    "duration": 20,
    "start_time": "2023-08-28T13:50:55.945Z"
   },
   {
    "duration": 93,
    "start_time": "2023-08-28T13:51:51.161Z"
   },
   {
    "duration": 89,
    "start_time": "2023-08-28T13:52:01.073Z"
   },
   {
    "duration": 46,
    "start_time": "2023-08-28T13:52:06.935Z"
   },
   {
    "duration": 60,
    "start_time": "2023-08-28T13:52:12.113Z"
   },
   {
    "duration": 52,
    "start_time": "2023-08-28T13:52:18.209Z"
   },
   {
    "duration": 41,
    "start_time": "2023-08-28T13:52:34.323Z"
   },
   {
    "duration": 50,
    "start_time": "2023-08-28T13:52:35.953Z"
   },
   {
    "duration": 39,
    "start_time": "2023-08-28T13:52:54.426Z"
   },
   {
    "duration": 6660,
    "start_time": "2023-08-28T13:52:55.057Z"
   },
   {
    "duration": 33,
    "start_time": "2023-08-28T13:54:15.468Z"
   },
   {
    "duration": 37,
    "start_time": "2023-08-28T13:54:19.881Z"
   },
   {
    "duration": 6785,
    "start_time": "2023-08-28T13:54:20.273Z"
   },
   {
    "duration": 35,
    "start_time": "2023-08-28T13:54:47.906Z"
   },
   {
    "duration": 6620,
    "start_time": "2023-08-28T13:54:48.193Z"
   },
   {
    "duration": 5,
    "start_time": "2023-08-28T13:55:08.577Z"
   },
   {
    "duration": 4,
    "start_time": "2023-08-28T13:55:15.017Z"
   },
   {
    "duration": 6333,
    "start_time": "2023-08-28T13:55:51.609Z"
   },
   {
    "duration": 855,
    "start_time": "2023-08-28T13:55:57.944Z"
   },
   {
    "duration": 16,
    "start_time": "2023-08-28T13:55:58.801Z"
   },
   {
    "duration": 34,
    "start_time": "2023-08-28T13:55:58.820Z"
   },
   {
    "duration": 245,
    "start_time": "2023-08-28T13:55:58.855Z"
   },
   {
    "duration": 29,
    "start_time": "2023-08-28T13:55:59.102Z"
   },
   {
    "duration": 4,
    "start_time": "2023-08-28T13:55:59.133Z"
   },
   {
    "duration": 8,
    "start_time": "2023-08-28T13:55:59.139Z"
   },
   {
    "duration": 3,
    "start_time": "2023-08-28T13:55:59.148Z"
   },
   {
    "duration": 657,
    "start_time": "2023-08-28T13:55:59.153Z"
   },
   {
    "duration": 3,
    "start_time": "2023-08-28T13:55:59.812Z"
   },
   {
    "duration": 28,
    "start_time": "2023-08-28T13:55:59.816Z"
   },
   {
    "duration": 1057146,
    "start_time": "2023-08-28T13:55:59.846Z"
   },
   {
    "duration": 6,
    "start_time": "2023-08-28T14:13:36.994Z"
   },
   {
    "duration": 35,
    "start_time": "2023-08-28T14:13:37.010Z"
   },
   {
    "duration": 6869,
    "start_time": "2023-08-28T14:13:37.047Z"
   },
   {
    "duration": 53223,
    "start_time": "2023-08-28T14:13:51.367Z"
   },
   {
    "duration": 342327,
    "start_time": "2023-08-28T14:14:59.222Z"
   },
   {
    "duration": 3498019,
    "start_time": "2023-08-28T14:20:58.757Z"
   },
   {
    "duration": 48218,
    "start_time": "2023-08-28T15:19:42.622Z"
   },
   {
    "duration": 22670,
    "start_time": "2023-08-28T15:21:01.756Z"
   },
   {
    "duration": 5941,
    "start_time": "2023-10-14T01:27:33.274Z"
   },
   {
    "duration": 10,
    "start_time": "2023-10-14T01:27:52.601Z"
   },
   {
    "duration": 2490,
    "start_time": "2023-10-14T01:27:54.395Z"
   },
   {
    "duration": 143,
    "start_time": "2023-10-14T02:38:44.739Z"
   },
   {
    "duration": 927,
    "start_time": "2023-10-14T02:38:45.035Z"
   },
   {
    "duration": 12,
    "start_time": "2023-10-14T02:38:49.369Z"
   },
   {
    "duration": 35,
    "start_time": "2023-10-14T02:38:50.015Z"
   },
   {
    "duration": 235,
    "start_time": "2023-10-14T02:38:50.572Z"
   },
   {
    "duration": 28,
    "start_time": "2023-10-14T02:38:51.185Z"
   }
  ],
  "kernelspec": {
   "display_name": "Python 3 (ipykernel)",
   "language": "python",
   "name": "python3"
  },
  "language_info": {
   "codemirror_mode": {
    "name": "ipython",
    "version": 3
   },
   "file_extension": ".py",
   "mimetype": "text/x-python",
   "name": "python",
   "nbconvert_exporter": "python",
   "pygments_lexer": "ipython3",
   "version": "3.11.5"
  },
  "toc": {
   "base_numbering": 1,
   "nav_menu": {},
   "number_sections": true,
   "sideBar": true,
   "skip_h1_title": true,
   "title_cell": "Содержание",
   "title_sidebar": "Contents",
   "toc_cell": true,
   "toc_position": {
    "height": "calc(100% - 180px)",
    "left": "10px",
    "top": "150px",
    "width": "302.391px"
   },
   "toc_section_display": true,
   "toc_window_display": true
  }
 },
 "nbformat": 4,
 "nbformat_minor": 2
}
